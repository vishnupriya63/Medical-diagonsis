{
  "cells": [
    {
      "cell_type": "markdown",
      "metadata": {
        "colab_type": "text",
        "id": "view-in-github"
      },
      "source": [
        "<a href=\"https://colab.research.google.com/github/Ahsanbeg/Multiple-Disease-Prediction/blob/main/Thyroid.ipynb\" target=\"_parent\"><img src=\"https://colab.research.google.com/assets/colab-badge.svg\" alt=\"Open In Colab\"/></a>"
      ]
    },
    {
      "cell_type": "code",
      "execution_count": 1,
      "metadata": {
        "colab": {
          "base_uri": "https://localhost:8080/"
        },
        "id": "MeVtdYwK7tyU",
        "outputId": "54250cb0-23d1-42fc-cd17-3c6867c0e375"
      },
      "outputs": [
        {
          "name": "stdout",
          "output_type": "stream",
          "text": [
            "Requirement already satisfied: scikit-learn==1.0.2 in c:\\users\\kanna\\appdata\\local\\programs\\python\\python39\\demo_module\\lib\\site-packages (1.0.2)\n",
            "Requirement already satisfied: numpy>=1.14.6 in c:\\users\\kanna\\appdata\\local\\programs\\python\\python39\\demo_module\\lib\\site-packages (from scikit-learn==1.0.2) (1.23.5)\n",
            "Requirement already satisfied: scipy>=1.1.0 in c:\\users\\kanna\\appdata\\local\\programs\\python\\python39\\demo_module\\lib\\site-packages (from scikit-learn==1.0.2) (1.13.1)\n",
            "Requirement already satisfied: joblib>=0.11 in c:\\users\\kanna\\appdata\\local\\programs\\python\\python39\\demo_module\\lib\\site-packages (from scikit-learn==1.0.2) (1.4.2)\n",
            "Requirement already satisfied: threadpoolctl>=2.0.0 in c:\\users\\kanna\\appdata\\local\\programs\\python\\python39\\demo_module\\lib\\site-packages (from scikit-learn==1.0.2) (3.5.0)\n"
          ]
        }
      ],
      "source": [
        "!pip install scikit-learn==1.0.2"
      ]
    },
    {
      "cell_type": "code",
      "execution_count": 2,
      "metadata": {
        "id": "o-YXIN4gH_Ux"
      },
      "outputs": [],
      "source": [
        "import numpy as np\n",
        "import pandas as pd\n",
        "import matplotlib.pyplot as plt\n",
        "import seaborn as sns\n",
        "import statsmodels.api as sm\n",
        "from sklearn.metrics import accuracy_score\n",
        "from sklearn.linear_model import LogisticRegression\n",
        "from sklearn.model_selection import train_test_split\n",
        "\n",
        "%matplotlib inline\n",
        "sns.set(rc={'figure.figsize': [20, 20]}, font_scale=1.4)"
      ]
    },
    {
      "cell_type": "code",
      "execution_count": 3,
      "metadata": {
        "colab": {
          "base_uri": "https://localhost:8080/",
          "height": 522
        },
        "id": "M7HickjrIoUN",
        "outputId": "ecab9155-5119-4cc4-d643-46ecf30a25be"
      },
      "outputs": [
        {
          "data": {
            "text/html": [
              "<div>\n",
              "<style scoped>\n",
              "    .dataframe tbody tr th:only-of-type {\n",
              "        vertical-align: middle;\n",
              "    }\n",
              "\n",
              "    .dataframe tbody tr th {\n",
              "        vertical-align: top;\n",
              "    }\n",
              "\n",
              "    .dataframe thead th {\n",
              "        text-align: right;\n",
              "    }\n",
              "</style>\n",
              "<table border=\"1\" class=\"dataframe\">\n",
              "  <thead>\n",
              "    <tr style=\"text-align: right;\">\n",
              "      <th></th>\n",
              "      <th>age</th>\n",
              "      <th>sex</th>\n",
              "      <th>on thyroxine</th>\n",
              "      <th>query on thyroxine</th>\n",
              "      <th>on antithyroid medication</th>\n",
              "      <th>sick</th>\n",
              "      <th>pregnant</th>\n",
              "      <th>thyroid surgery</th>\n",
              "      <th>I131 treatment</th>\n",
              "      <th>query hypothyroid</th>\n",
              "      <th>...</th>\n",
              "      <th>TT4 measured</th>\n",
              "      <th>TT4</th>\n",
              "      <th>T4U measured</th>\n",
              "      <th>T4U</th>\n",
              "      <th>FTI measured</th>\n",
              "      <th>FTI</th>\n",
              "      <th>TBG measured</th>\n",
              "      <th>TBG</th>\n",
              "      <th>referral source</th>\n",
              "      <th>binaryClass</th>\n",
              "    </tr>\n",
              "  </thead>\n",
              "  <tbody>\n",
              "    <tr>\n",
              "      <th>0</th>\n",
              "      <td>41</td>\n",
              "      <td>F</td>\n",
              "      <td>f</td>\n",
              "      <td>f</td>\n",
              "      <td>f</td>\n",
              "      <td>f</td>\n",
              "      <td>f</td>\n",
              "      <td>f</td>\n",
              "      <td>f</td>\n",
              "      <td>f</td>\n",
              "      <td>...</td>\n",
              "      <td>t</td>\n",
              "      <td>125</td>\n",
              "      <td>t</td>\n",
              "      <td>1.14</td>\n",
              "      <td>t</td>\n",
              "      <td>109</td>\n",
              "      <td>f</td>\n",
              "      <td>?</td>\n",
              "      <td>SVHC</td>\n",
              "      <td>P</td>\n",
              "    </tr>\n",
              "    <tr>\n",
              "      <th>1</th>\n",
              "      <td>23</td>\n",
              "      <td>F</td>\n",
              "      <td>f</td>\n",
              "      <td>f</td>\n",
              "      <td>f</td>\n",
              "      <td>f</td>\n",
              "      <td>f</td>\n",
              "      <td>f</td>\n",
              "      <td>f</td>\n",
              "      <td>f</td>\n",
              "      <td>...</td>\n",
              "      <td>t</td>\n",
              "      <td>102</td>\n",
              "      <td>f</td>\n",
              "      <td>?</td>\n",
              "      <td>f</td>\n",
              "      <td>?</td>\n",
              "      <td>f</td>\n",
              "      <td>?</td>\n",
              "      <td>other</td>\n",
              "      <td>P</td>\n",
              "    </tr>\n",
              "    <tr>\n",
              "      <th>2</th>\n",
              "      <td>46</td>\n",
              "      <td>M</td>\n",
              "      <td>f</td>\n",
              "      <td>f</td>\n",
              "      <td>f</td>\n",
              "      <td>f</td>\n",
              "      <td>f</td>\n",
              "      <td>f</td>\n",
              "      <td>f</td>\n",
              "      <td>f</td>\n",
              "      <td>...</td>\n",
              "      <td>t</td>\n",
              "      <td>109</td>\n",
              "      <td>t</td>\n",
              "      <td>0.91</td>\n",
              "      <td>t</td>\n",
              "      <td>120</td>\n",
              "      <td>f</td>\n",
              "      <td>?</td>\n",
              "      <td>other</td>\n",
              "      <td>P</td>\n",
              "    </tr>\n",
              "    <tr>\n",
              "      <th>3</th>\n",
              "      <td>70</td>\n",
              "      <td>F</td>\n",
              "      <td>t</td>\n",
              "      <td>f</td>\n",
              "      <td>f</td>\n",
              "      <td>f</td>\n",
              "      <td>f</td>\n",
              "      <td>f</td>\n",
              "      <td>f</td>\n",
              "      <td>f</td>\n",
              "      <td>...</td>\n",
              "      <td>t</td>\n",
              "      <td>175</td>\n",
              "      <td>f</td>\n",
              "      <td>?</td>\n",
              "      <td>f</td>\n",
              "      <td>?</td>\n",
              "      <td>f</td>\n",
              "      <td>?</td>\n",
              "      <td>other</td>\n",
              "      <td>P</td>\n",
              "    </tr>\n",
              "    <tr>\n",
              "      <th>4</th>\n",
              "      <td>70</td>\n",
              "      <td>F</td>\n",
              "      <td>f</td>\n",
              "      <td>f</td>\n",
              "      <td>f</td>\n",
              "      <td>f</td>\n",
              "      <td>f</td>\n",
              "      <td>f</td>\n",
              "      <td>f</td>\n",
              "      <td>f</td>\n",
              "      <td>...</td>\n",
              "      <td>t</td>\n",
              "      <td>61</td>\n",
              "      <td>t</td>\n",
              "      <td>0.87</td>\n",
              "      <td>t</td>\n",
              "      <td>70</td>\n",
              "      <td>f</td>\n",
              "      <td>?</td>\n",
              "      <td>SVI</td>\n",
              "      <td>P</td>\n",
              "    </tr>\n",
              "    <tr>\n",
              "      <th>...</th>\n",
              "      <td>...</td>\n",
              "      <td>...</td>\n",
              "      <td>...</td>\n",
              "      <td>...</td>\n",
              "      <td>...</td>\n",
              "      <td>...</td>\n",
              "      <td>...</td>\n",
              "      <td>...</td>\n",
              "      <td>...</td>\n",
              "      <td>...</td>\n",
              "      <td>...</td>\n",
              "      <td>...</td>\n",
              "      <td>...</td>\n",
              "      <td>...</td>\n",
              "      <td>...</td>\n",
              "      <td>...</td>\n",
              "      <td>...</td>\n",
              "      <td>...</td>\n",
              "      <td>...</td>\n",
              "      <td>...</td>\n",
              "      <td>...</td>\n",
              "    </tr>\n",
              "    <tr>\n",
              "      <th>3767</th>\n",
              "      <td>30</td>\n",
              "      <td>F</td>\n",
              "      <td>f</td>\n",
              "      <td>f</td>\n",
              "      <td>f</td>\n",
              "      <td>f</td>\n",
              "      <td>f</td>\n",
              "      <td>f</td>\n",
              "      <td>f</td>\n",
              "      <td>f</td>\n",
              "      <td>...</td>\n",
              "      <td>f</td>\n",
              "      <td>?</td>\n",
              "      <td>f</td>\n",
              "      <td>?</td>\n",
              "      <td>f</td>\n",
              "      <td>?</td>\n",
              "      <td>f</td>\n",
              "      <td>?</td>\n",
              "      <td>other</td>\n",
              "      <td>P</td>\n",
              "    </tr>\n",
              "    <tr>\n",
              "      <th>3768</th>\n",
              "      <td>68</td>\n",
              "      <td>F</td>\n",
              "      <td>f</td>\n",
              "      <td>f</td>\n",
              "      <td>f</td>\n",
              "      <td>f</td>\n",
              "      <td>f</td>\n",
              "      <td>f</td>\n",
              "      <td>f</td>\n",
              "      <td>f</td>\n",
              "      <td>...</td>\n",
              "      <td>t</td>\n",
              "      <td>124</td>\n",
              "      <td>t</td>\n",
              "      <td>1.08</td>\n",
              "      <td>t</td>\n",
              "      <td>114</td>\n",
              "      <td>f</td>\n",
              "      <td>?</td>\n",
              "      <td>SVI</td>\n",
              "      <td>P</td>\n",
              "    </tr>\n",
              "    <tr>\n",
              "      <th>3769</th>\n",
              "      <td>74</td>\n",
              "      <td>F</td>\n",
              "      <td>f</td>\n",
              "      <td>f</td>\n",
              "      <td>f</td>\n",
              "      <td>f</td>\n",
              "      <td>f</td>\n",
              "      <td>f</td>\n",
              "      <td>f</td>\n",
              "      <td>f</td>\n",
              "      <td>...</td>\n",
              "      <td>t</td>\n",
              "      <td>112</td>\n",
              "      <td>t</td>\n",
              "      <td>1.07</td>\n",
              "      <td>t</td>\n",
              "      <td>105</td>\n",
              "      <td>f</td>\n",
              "      <td>?</td>\n",
              "      <td>other</td>\n",
              "      <td>P</td>\n",
              "    </tr>\n",
              "    <tr>\n",
              "      <th>3770</th>\n",
              "      <td>72</td>\n",
              "      <td>M</td>\n",
              "      <td>f</td>\n",
              "      <td>f</td>\n",
              "      <td>f</td>\n",
              "      <td>f</td>\n",
              "      <td>f</td>\n",
              "      <td>f</td>\n",
              "      <td>f</td>\n",
              "      <td>f</td>\n",
              "      <td>...</td>\n",
              "      <td>t</td>\n",
              "      <td>82</td>\n",
              "      <td>t</td>\n",
              "      <td>0.94</td>\n",
              "      <td>t</td>\n",
              "      <td>87</td>\n",
              "      <td>f</td>\n",
              "      <td>?</td>\n",
              "      <td>SVI</td>\n",
              "      <td>P</td>\n",
              "    </tr>\n",
              "    <tr>\n",
              "      <th>3771</th>\n",
              "      <td>64</td>\n",
              "      <td>F</td>\n",
              "      <td>f</td>\n",
              "      <td>f</td>\n",
              "      <td>f</td>\n",
              "      <td>f</td>\n",
              "      <td>f</td>\n",
              "      <td>f</td>\n",
              "      <td>f</td>\n",
              "      <td>f</td>\n",
              "      <td>...</td>\n",
              "      <td>t</td>\n",
              "      <td>99</td>\n",
              "      <td>t</td>\n",
              "      <td>1.07</td>\n",
              "      <td>t</td>\n",
              "      <td>92</td>\n",
              "      <td>f</td>\n",
              "      <td>?</td>\n",
              "      <td>other</td>\n",
              "      <td>P</td>\n",
              "    </tr>\n",
              "  </tbody>\n",
              "</table>\n",
              "<p>3772 rows × 30 columns</p>\n",
              "</div>"
            ],
            "text/plain": [
              "     age sex on thyroxine query on thyroxine on antithyroid medication sick  \\\n",
              "0     41   F            f                  f                         f    f   \n",
              "1     23   F            f                  f                         f    f   \n",
              "2     46   M            f                  f                         f    f   \n",
              "3     70   F            t                  f                         f    f   \n",
              "4     70   F            f                  f                         f    f   \n",
              "...   ..  ..          ...                ...                       ...  ...   \n",
              "3767  30   F            f                  f                         f    f   \n",
              "3768  68   F            f                  f                         f    f   \n",
              "3769  74   F            f                  f                         f    f   \n",
              "3770  72   M            f                  f                         f    f   \n",
              "3771  64   F            f                  f                         f    f   \n",
              "\n",
              "     pregnant thyroid surgery I131 treatment query hypothyroid  ...  \\\n",
              "0           f               f              f                 f  ...   \n",
              "1           f               f              f                 f  ...   \n",
              "2           f               f              f                 f  ...   \n",
              "3           f               f              f                 f  ...   \n",
              "4           f               f              f                 f  ...   \n",
              "...       ...             ...            ...               ...  ...   \n",
              "3767        f               f              f                 f  ...   \n",
              "3768        f               f              f                 f  ...   \n",
              "3769        f               f              f                 f  ...   \n",
              "3770        f               f              f                 f  ...   \n",
              "3771        f               f              f                 f  ...   \n",
              "\n",
              "     TT4 measured  TT4 T4U measured   T4U FTI measured  FTI TBG measured TBG  \\\n",
              "0               t  125            t  1.14            t  109            f   ?   \n",
              "1               t  102            f     ?            f    ?            f   ?   \n",
              "2               t  109            t  0.91            t  120            f   ?   \n",
              "3               t  175            f     ?            f    ?            f   ?   \n",
              "4               t   61            t  0.87            t   70            f   ?   \n",
              "...           ...  ...          ...   ...          ...  ...          ...  ..   \n",
              "3767            f    ?            f     ?            f    ?            f   ?   \n",
              "3768            t  124            t  1.08            t  114            f   ?   \n",
              "3769            t  112            t  1.07            t  105            f   ?   \n",
              "3770            t   82            t  0.94            t   87            f   ?   \n",
              "3771            t   99            t  1.07            t   92            f   ?   \n",
              "\n",
              "     referral source binaryClass  \n",
              "0               SVHC           P  \n",
              "1              other           P  \n",
              "2              other           P  \n",
              "3              other           P  \n",
              "4                SVI           P  \n",
              "...              ...         ...  \n",
              "3767           other           P  \n",
              "3768             SVI           P  \n",
              "3769           other           P  \n",
              "3770             SVI           P  \n",
              "3771           other           P  \n",
              "\n",
              "[3772 rows x 30 columns]"
            ]
          },
          "execution_count": 3,
          "metadata": {},
          "output_type": "execute_result"
        }
      ],
      "source": [
        "df = pd.read_csv('Datasets/hypothyroid.csv')\n",
        "df"
      ]
    },
    {
      "cell_type": "code",
      "execution_count": 4,
      "metadata": {
        "colab": {
          "base_uri": "https://localhost:8080/",
          "height": 334
        },
        "id": "bBrWQC8AIxE7",
        "outputId": "ba34c4f5-df57-4b1c-a236-074f3752e734"
      },
      "outputs": [
        {
          "data": {
            "text/html": [
              "<div>\n",
              "<style scoped>\n",
              "    .dataframe tbody tr th:only-of-type {\n",
              "        vertical-align: middle;\n",
              "    }\n",
              "\n",
              "    .dataframe tbody tr th {\n",
              "        vertical-align: top;\n",
              "    }\n",
              "\n",
              "    .dataframe thead th {\n",
              "        text-align: right;\n",
              "    }\n",
              "</style>\n",
              "<table border=\"1\" class=\"dataframe\">\n",
              "  <thead>\n",
              "    <tr style=\"text-align: right;\">\n",
              "      <th></th>\n",
              "      <th>age</th>\n",
              "      <th>sex</th>\n",
              "      <th>on thyroxine</th>\n",
              "      <th>query on thyroxine</th>\n",
              "      <th>on antithyroid medication</th>\n",
              "      <th>sick</th>\n",
              "      <th>pregnant</th>\n",
              "      <th>thyroid surgery</th>\n",
              "      <th>I131 treatment</th>\n",
              "      <th>query hypothyroid</th>\n",
              "      <th>...</th>\n",
              "      <th>TT4 measured</th>\n",
              "      <th>TT4</th>\n",
              "      <th>T4U measured</th>\n",
              "      <th>T4U</th>\n",
              "      <th>FTI measured</th>\n",
              "      <th>FTI</th>\n",
              "      <th>TBG measured</th>\n",
              "      <th>TBG</th>\n",
              "      <th>referral source</th>\n",
              "      <th>binaryClass</th>\n",
              "    </tr>\n",
              "  </thead>\n",
              "  <tbody>\n",
              "    <tr>\n",
              "      <th>0</th>\n",
              "      <td>41</td>\n",
              "      <td>F</td>\n",
              "      <td>f</td>\n",
              "      <td>f</td>\n",
              "      <td>f</td>\n",
              "      <td>f</td>\n",
              "      <td>f</td>\n",
              "      <td>f</td>\n",
              "      <td>f</td>\n",
              "      <td>f</td>\n",
              "      <td>...</td>\n",
              "      <td>t</td>\n",
              "      <td>125</td>\n",
              "      <td>t</td>\n",
              "      <td>1.14</td>\n",
              "      <td>t</td>\n",
              "      <td>109</td>\n",
              "      <td>f</td>\n",
              "      <td>?</td>\n",
              "      <td>SVHC</td>\n",
              "      <td>P</td>\n",
              "    </tr>\n",
              "    <tr>\n",
              "      <th>1</th>\n",
              "      <td>23</td>\n",
              "      <td>F</td>\n",
              "      <td>f</td>\n",
              "      <td>f</td>\n",
              "      <td>f</td>\n",
              "      <td>f</td>\n",
              "      <td>f</td>\n",
              "      <td>f</td>\n",
              "      <td>f</td>\n",
              "      <td>f</td>\n",
              "      <td>...</td>\n",
              "      <td>t</td>\n",
              "      <td>102</td>\n",
              "      <td>f</td>\n",
              "      <td>?</td>\n",
              "      <td>f</td>\n",
              "      <td>?</td>\n",
              "      <td>f</td>\n",
              "      <td>?</td>\n",
              "      <td>other</td>\n",
              "      <td>P</td>\n",
              "    </tr>\n",
              "    <tr>\n",
              "      <th>2</th>\n",
              "      <td>46</td>\n",
              "      <td>M</td>\n",
              "      <td>f</td>\n",
              "      <td>f</td>\n",
              "      <td>f</td>\n",
              "      <td>f</td>\n",
              "      <td>f</td>\n",
              "      <td>f</td>\n",
              "      <td>f</td>\n",
              "      <td>f</td>\n",
              "      <td>...</td>\n",
              "      <td>t</td>\n",
              "      <td>109</td>\n",
              "      <td>t</td>\n",
              "      <td>0.91</td>\n",
              "      <td>t</td>\n",
              "      <td>120</td>\n",
              "      <td>f</td>\n",
              "      <td>?</td>\n",
              "      <td>other</td>\n",
              "      <td>P</td>\n",
              "    </tr>\n",
              "    <tr>\n",
              "      <th>3</th>\n",
              "      <td>70</td>\n",
              "      <td>F</td>\n",
              "      <td>t</td>\n",
              "      <td>f</td>\n",
              "      <td>f</td>\n",
              "      <td>f</td>\n",
              "      <td>f</td>\n",
              "      <td>f</td>\n",
              "      <td>f</td>\n",
              "      <td>f</td>\n",
              "      <td>...</td>\n",
              "      <td>t</td>\n",
              "      <td>175</td>\n",
              "      <td>f</td>\n",
              "      <td>?</td>\n",
              "      <td>f</td>\n",
              "      <td>?</td>\n",
              "      <td>f</td>\n",
              "      <td>?</td>\n",
              "      <td>other</td>\n",
              "      <td>P</td>\n",
              "    </tr>\n",
              "    <tr>\n",
              "      <th>4</th>\n",
              "      <td>70</td>\n",
              "      <td>F</td>\n",
              "      <td>f</td>\n",
              "      <td>f</td>\n",
              "      <td>f</td>\n",
              "      <td>f</td>\n",
              "      <td>f</td>\n",
              "      <td>f</td>\n",
              "      <td>f</td>\n",
              "      <td>f</td>\n",
              "      <td>...</td>\n",
              "      <td>t</td>\n",
              "      <td>61</td>\n",
              "      <td>t</td>\n",
              "      <td>0.87</td>\n",
              "      <td>t</td>\n",
              "      <td>70</td>\n",
              "      <td>f</td>\n",
              "      <td>?</td>\n",
              "      <td>SVI</td>\n",
              "      <td>P</td>\n",
              "    </tr>\n",
              "  </tbody>\n",
              "</table>\n",
              "<p>5 rows × 30 columns</p>\n",
              "</div>"
            ],
            "text/plain": [
              "  age sex on thyroxine query on thyroxine on antithyroid medication sick  \\\n",
              "0  41   F            f                  f                         f    f   \n",
              "1  23   F            f                  f                         f    f   \n",
              "2  46   M            f                  f                         f    f   \n",
              "3  70   F            t                  f                         f    f   \n",
              "4  70   F            f                  f                         f    f   \n",
              "\n",
              "  pregnant thyroid surgery I131 treatment query hypothyroid  ... TT4 measured  \\\n",
              "0        f               f              f                 f  ...            t   \n",
              "1        f               f              f                 f  ...            t   \n",
              "2        f               f              f                 f  ...            t   \n",
              "3        f               f              f                 f  ...            t   \n",
              "4        f               f              f                 f  ...            t   \n",
              "\n",
              "   TT4 T4U measured   T4U FTI measured  FTI TBG measured TBG referral source  \\\n",
              "0  125            t  1.14            t  109            f   ?            SVHC   \n",
              "1  102            f     ?            f    ?            f   ?           other   \n",
              "2  109            t  0.91            t  120            f   ?           other   \n",
              "3  175            f     ?            f    ?            f   ?           other   \n",
              "4   61            t  0.87            t   70            f   ?             SVI   \n",
              "\n",
              "  binaryClass  \n",
              "0           P  \n",
              "1           P  \n",
              "2           P  \n",
              "3           P  \n",
              "4           P  \n",
              "\n",
              "[5 rows x 30 columns]"
            ]
          },
          "execution_count": 4,
          "metadata": {},
          "output_type": "execute_result"
        }
      ],
      "source": [
        "df.head()\n"
      ]
    },
    {
      "cell_type": "code",
      "execution_count": 5,
      "metadata": {
        "colab": {
          "base_uri": "https://localhost:8080/",
          "height": 990
        },
        "id": "d-qvbvauI0u0",
        "outputId": "f8414405-40bf-4008-df19-0ffa42dfa7af"
      },
      "outputs": [
        {
          "data": {
            "text/html": [
              "<div>\n",
              "<style scoped>\n",
              "    .dataframe tbody tr th:only-of-type {\n",
              "        vertical-align: middle;\n",
              "    }\n",
              "\n",
              "    .dataframe tbody tr th {\n",
              "        vertical-align: top;\n",
              "    }\n",
              "\n",
              "    .dataframe thead th {\n",
              "        text-align: right;\n",
              "    }\n",
              "</style>\n",
              "<table border=\"1\" class=\"dataframe\">\n",
              "  <thead>\n",
              "    <tr style=\"text-align: right;\">\n",
              "      <th></th>\n",
              "      <th>count</th>\n",
              "      <th>unique</th>\n",
              "      <th>top</th>\n",
              "      <th>freq</th>\n",
              "    </tr>\n",
              "  </thead>\n",
              "  <tbody>\n",
              "    <tr>\n",
              "      <th>age</th>\n",
              "      <td>3772</td>\n",
              "      <td>94</td>\n",
              "      <td>59</td>\n",
              "      <td>95</td>\n",
              "    </tr>\n",
              "    <tr>\n",
              "      <th>sex</th>\n",
              "      <td>3772</td>\n",
              "      <td>3</td>\n",
              "      <td>F</td>\n",
              "      <td>2480</td>\n",
              "    </tr>\n",
              "    <tr>\n",
              "      <th>on thyroxine</th>\n",
              "      <td>3772</td>\n",
              "      <td>2</td>\n",
              "      <td>f</td>\n",
              "      <td>3308</td>\n",
              "    </tr>\n",
              "    <tr>\n",
              "      <th>query on thyroxine</th>\n",
              "      <td>3772</td>\n",
              "      <td>2</td>\n",
              "      <td>f</td>\n",
              "      <td>3722</td>\n",
              "    </tr>\n",
              "    <tr>\n",
              "      <th>on antithyroid medication</th>\n",
              "      <td>3772</td>\n",
              "      <td>2</td>\n",
              "      <td>f</td>\n",
              "      <td>3729</td>\n",
              "    </tr>\n",
              "    <tr>\n",
              "      <th>sick</th>\n",
              "      <td>3772</td>\n",
              "      <td>2</td>\n",
              "      <td>f</td>\n",
              "      <td>3625</td>\n",
              "    </tr>\n",
              "    <tr>\n",
              "      <th>pregnant</th>\n",
              "      <td>3772</td>\n",
              "      <td>2</td>\n",
              "      <td>f</td>\n",
              "      <td>3719</td>\n",
              "    </tr>\n",
              "    <tr>\n",
              "      <th>thyroid surgery</th>\n",
              "      <td>3772</td>\n",
              "      <td>2</td>\n",
              "      <td>f</td>\n",
              "      <td>3719</td>\n",
              "    </tr>\n",
              "    <tr>\n",
              "      <th>I131 treatment</th>\n",
              "      <td>3772</td>\n",
              "      <td>2</td>\n",
              "      <td>f</td>\n",
              "      <td>3713</td>\n",
              "    </tr>\n",
              "    <tr>\n",
              "      <th>query hypothyroid</th>\n",
              "      <td>3772</td>\n",
              "      <td>2</td>\n",
              "      <td>f</td>\n",
              "      <td>3538</td>\n",
              "    </tr>\n",
              "    <tr>\n",
              "      <th>query hyperthyroid</th>\n",
              "      <td>3772</td>\n",
              "      <td>2</td>\n",
              "      <td>f</td>\n",
              "      <td>3535</td>\n",
              "    </tr>\n",
              "    <tr>\n",
              "      <th>lithium</th>\n",
              "      <td>3772</td>\n",
              "      <td>2</td>\n",
              "      <td>f</td>\n",
              "      <td>3754</td>\n",
              "    </tr>\n",
              "    <tr>\n",
              "      <th>goitre</th>\n",
              "      <td>3772</td>\n",
              "      <td>2</td>\n",
              "      <td>f</td>\n",
              "      <td>3738</td>\n",
              "    </tr>\n",
              "    <tr>\n",
              "      <th>tumor</th>\n",
              "      <td>3772</td>\n",
              "      <td>2</td>\n",
              "      <td>f</td>\n",
              "      <td>3676</td>\n",
              "    </tr>\n",
              "    <tr>\n",
              "      <th>hypopituitary</th>\n",
              "      <td>3772</td>\n",
              "      <td>2</td>\n",
              "      <td>f</td>\n",
              "      <td>3771</td>\n",
              "    </tr>\n",
              "    <tr>\n",
              "      <th>psych</th>\n",
              "      <td>3772</td>\n",
              "      <td>2</td>\n",
              "      <td>f</td>\n",
              "      <td>3588</td>\n",
              "    </tr>\n",
              "    <tr>\n",
              "      <th>TSH measured</th>\n",
              "      <td>3772</td>\n",
              "      <td>2</td>\n",
              "      <td>t</td>\n",
              "      <td>3403</td>\n",
              "    </tr>\n",
              "    <tr>\n",
              "      <th>TSH</th>\n",
              "      <td>3772</td>\n",
              "      <td>288</td>\n",
              "      <td>?</td>\n",
              "      <td>369</td>\n",
              "    </tr>\n",
              "    <tr>\n",
              "      <th>T3 measured</th>\n",
              "      <td>3772</td>\n",
              "      <td>2</td>\n",
              "      <td>t</td>\n",
              "      <td>3003</td>\n",
              "    </tr>\n",
              "    <tr>\n",
              "      <th>T3</th>\n",
              "      <td>3772</td>\n",
              "      <td>70</td>\n",
              "      <td>?</td>\n",
              "      <td>769</td>\n",
              "    </tr>\n",
              "    <tr>\n",
              "      <th>TT4 measured</th>\n",
              "      <td>3772</td>\n",
              "      <td>2</td>\n",
              "      <td>t</td>\n",
              "      <td>3541</td>\n",
              "    </tr>\n",
              "    <tr>\n",
              "      <th>TT4</th>\n",
              "      <td>3772</td>\n",
              "      <td>242</td>\n",
              "      <td>?</td>\n",
              "      <td>231</td>\n",
              "    </tr>\n",
              "    <tr>\n",
              "      <th>T4U measured</th>\n",
              "      <td>3772</td>\n",
              "      <td>2</td>\n",
              "      <td>t</td>\n",
              "      <td>3385</td>\n",
              "    </tr>\n",
              "    <tr>\n",
              "      <th>T4U</th>\n",
              "      <td>3772</td>\n",
              "      <td>147</td>\n",
              "      <td>?</td>\n",
              "      <td>387</td>\n",
              "    </tr>\n",
              "    <tr>\n",
              "      <th>FTI measured</th>\n",
              "      <td>3772</td>\n",
              "      <td>2</td>\n",
              "      <td>t</td>\n",
              "      <td>3387</td>\n",
              "    </tr>\n",
              "    <tr>\n",
              "      <th>FTI</th>\n",
              "      <td>3772</td>\n",
              "      <td>235</td>\n",
              "      <td>?</td>\n",
              "      <td>385</td>\n",
              "    </tr>\n",
              "    <tr>\n",
              "      <th>TBG measured</th>\n",
              "      <td>3772</td>\n",
              "      <td>1</td>\n",
              "      <td>f</td>\n",
              "      <td>3772</td>\n",
              "    </tr>\n",
              "    <tr>\n",
              "      <th>TBG</th>\n",
              "      <td>3772</td>\n",
              "      <td>1</td>\n",
              "      <td>?</td>\n",
              "      <td>3772</td>\n",
              "    </tr>\n",
              "    <tr>\n",
              "      <th>referral source</th>\n",
              "      <td>3772</td>\n",
              "      <td>5</td>\n",
              "      <td>other</td>\n",
              "      <td>2201</td>\n",
              "    </tr>\n",
              "    <tr>\n",
              "      <th>binaryClass</th>\n",
              "      <td>3772</td>\n",
              "      <td>2</td>\n",
              "      <td>P</td>\n",
              "      <td>3481</td>\n",
              "    </tr>\n",
              "  </tbody>\n",
              "</table>\n",
              "</div>"
            ],
            "text/plain": [
              "                          count unique    top  freq\n",
              "age                        3772     94     59    95\n",
              "sex                        3772      3      F  2480\n",
              "on thyroxine               3772      2      f  3308\n",
              "query on thyroxine         3772      2      f  3722\n",
              "on antithyroid medication  3772      2      f  3729\n",
              "sick                       3772      2      f  3625\n",
              "pregnant                   3772      2      f  3719\n",
              "thyroid surgery            3772      2      f  3719\n",
              "I131 treatment             3772      2      f  3713\n",
              "query hypothyroid          3772      2      f  3538\n",
              "query hyperthyroid         3772      2      f  3535\n",
              "lithium                    3772      2      f  3754\n",
              "goitre                     3772      2      f  3738\n",
              "tumor                      3772      2      f  3676\n",
              "hypopituitary              3772      2      f  3771\n",
              "psych                      3772      2      f  3588\n",
              "TSH measured               3772      2      t  3403\n",
              "TSH                        3772    288      ?   369\n",
              "T3 measured                3772      2      t  3003\n",
              "T3                         3772     70      ?   769\n",
              "TT4 measured               3772      2      t  3541\n",
              "TT4                        3772    242      ?   231\n",
              "T4U measured               3772      2      t  3385\n",
              "T4U                        3772    147      ?   387\n",
              "FTI measured               3772      2      t  3387\n",
              "FTI                        3772    235      ?   385\n",
              "TBG measured               3772      1      f  3772\n",
              "TBG                        3772      1      ?  3772\n",
              "referral source            3772      5  other  2201\n",
              "binaryClass                3772      2      P  3481"
            ]
          },
          "execution_count": 5,
          "metadata": {},
          "output_type": "execute_result"
        }
      ],
      "source": [
        "df.describe().T\n"
      ]
    },
    {
      "cell_type": "code",
      "execution_count": 6,
      "metadata": {
        "colab": {
          "base_uri": "https://localhost:8080/"
        },
        "id": "l5sXTua8I3GY",
        "outputId": "98cdbb4d-7a59-495f-9bea-6f8c40fe521d"
      },
      "outputs": [
        {
          "name": "stdout",
          "output_type": "stream",
          "text": [
            "<class 'pandas.core.frame.DataFrame'>\n",
            "RangeIndex: 3772 entries, 0 to 3771\n",
            "Data columns (total 30 columns):\n",
            " #   Column                     Non-Null Count  Dtype \n",
            "---  ------                     --------------  ----- \n",
            " 0   age                        3772 non-null   object\n",
            " 1   sex                        3772 non-null   object\n",
            " 2   on thyroxine               3772 non-null   object\n",
            " 3   query on thyroxine         3772 non-null   object\n",
            " 4   on antithyroid medication  3772 non-null   object\n",
            " 5   sick                       3772 non-null   object\n",
            " 6   pregnant                   3772 non-null   object\n",
            " 7   thyroid surgery            3772 non-null   object\n",
            " 8   I131 treatment             3772 non-null   object\n",
            " 9   query hypothyroid          3772 non-null   object\n",
            " 10  query hyperthyroid         3772 non-null   object\n",
            " 11  lithium                    3772 non-null   object\n",
            " 12  goitre                     3772 non-null   object\n",
            " 13  tumor                      3772 non-null   object\n",
            " 14  hypopituitary              3772 non-null   object\n",
            " 15  psych                      3772 non-null   object\n",
            " 16  TSH measured               3772 non-null   object\n",
            " 17  TSH                        3772 non-null   object\n",
            " 18  T3 measured                3772 non-null   object\n",
            " 19  T3                         3772 non-null   object\n",
            " 20  TT4 measured               3772 non-null   object\n",
            " 21  TT4                        3772 non-null   object\n",
            " 22  T4U measured               3772 non-null   object\n",
            " 23  T4U                        3772 non-null   object\n",
            " 24  FTI measured               3772 non-null   object\n",
            " 25  FTI                        3772 non-null   object\n",
            " 26  TBG measured               3772 non-null   object\n",
            " 27  TBG                        3772 non-null   object\n",
            " 28  referral source            3772 non-null   object\n",
            " 29  binaryClass                3772 non-null   object\n",
            "dtypes: object(30)\n",
            "memory usage: 884.2+ KB\n"
          ]
        }
      ],
      "source": [
        "df.info()\n",
        "\n"
      ]
    },
    {
      "cell_type": "code",
      "execution_count": 7,
      "metadata": {
        "colab": {
          "base_uri": "https://localhost:8080/",
          "height": 522
        },
        "id": "TjQlM_MAI7GJ",
        "outputId": "81ad0b60-2876-457a-b9e3-5fef12f2754f"
      },
      "outputs": [
        {
          "data": {
            "text/html": [
              "<div>\n",
              "<style scoped>\n",
              "    .dataframe tbody tr th:only-of-type {\n",
              "        vertical-align: middle;\n",
              "    }\n",
              "\n",
              "    .dataframe tbody tr th {\n",
              "        vertical-align: top;\n",
              "    }\n",
              "\n",
              "    .dataframe thead th {\n",
              "        text-align: right;\n",
              "    }\n",
              "</style>\n",
              "<table border=\"1\" class=\"dataframe\">\n",
              "  <thead>\n",
              "    <tr style=\"text-align: right;\">\n",
              "      <th></th>\n",
              "      <th>age</th>\n",
              "      <th>sex</th>\n",
              "      <th>on thyroxine</th>\n",
              "      <th>query on thyroxine</th>\n",
              "      <th>on antithyroid medication</th>\n",
              "      <th>sick</th>\n",
              "      <th>pregnant</th>\n",
              "      <th>thyroid surgery</th>\n",
              "      <th>I131 treatment</th>\n",
              "      <th>query hypothyroid</th>\n",
              "      <th>...</th>\n",
              "      <th>TT4 measured</th>\n",
              "      <th>TT4</th>\n",
              "      <th>T4U measured</th>\n",
              "      <th>T4U</th>\n",
              "      <th>FTI measured</th>\n",
              "      <th>FTI</th>\n",
              "      <th>TBG measured</th>\n",
              "      <th>TBG</th>\n",
              "      <th>referral source</th>\n",
              "      <th>binaryClass</th>\n",
              "    </tr>\n",
              "  </thead>\n",
              "  <tbody>\n",
              "    <tr>\n",
              "      <th>0</th>\n",
              "      <td>41</td>\n",
              "      <td>F</td>\n",
              "      <td>f</td>\n",
              "      <td>f</td>\n",
              "      <td>f</td>\n",
              "      <td>f</td>\n",
              "      <td>f</td>\n",
              "      <td>f</td>\n",
              "      <td>f</td>\n",
              "      <td>f</td>\n",
              "      <td>...</td>\n",
              "      <td>t</td>\n",
              "      <td>125</td>\n",
              "      <td>t</td>\n",
              "      <td>1.14</td>\n",
              "      <td>t</td>\n",
              "      <td>109</td>\n",
              "      <td>f</td>\n",
              "      <td>?</td>\n",
              "      <td>SVHC</td>\n",
              "      <td>P</td>\n",
              "    </tr>\n",
              "    <tr>\n",
              "      <th>1</th>\n",
              "      <td>23</td>\n",
              "      <td>F</td>\n",
              "      <td>f</td>\n",
              "      <td>f</td>\n",
              "      <td>f</td>\n",
              "      <td>f</td>\n",
              "      <td>f</td>\n",
              "      <td>f</td>\n",
              "      <td>f</td>\n",
              "      <td>f</td>\n",
              "      <td>...</td>\n",
              "      <td>t</td>\n",
              "      <td>102</td>\n",
              "      <td>f</td>\n",
              "      <td>?</td>\n",
              "      <td>f</td>\n",
              "      <td>?</td>\n",
              "      <td>f</td>\n",
              "      <td>?</td>\n",
              "      <td>other</td>\n",
              "      <td>P</td>\n",
              "    </tr>\n",
              "    <tr>\n",
              "      <th>2</th>\n",
              "      <td>46</td>\n",
              "      <td>M</td>\n",
              "      <td>f</td>\n",
              "      <td>f</td>\n",
              "      <td>f</td>\n",
              "      <td>f</td>\n",
              "      <td>f</td>\n",
              "      <td>f</td>\n",
              "      <td>f</td>\n",
              "      <td>f</td>\n",
              "      <td>...</td>\n",
              "      <td>t</td>\n",
              "      <td>109</td>\n",
              "      <td>t</td>\n",
              "      <td>0.91</td>\n",
              "      <td>t</td>\n",
              "      <td>120</td>\n",
              "      <td>f</td>\n",
              "      <td>?</td>\n",
              "      <td>other</td>\n",
              "      <td>P</td>\n",
              "    </tr>\n",
              "    <tr>\n",
              "      <th>3</th>\n",
              "      <td>70</td>\n",
              "      <td>F</td>\n",
              "      <td>t</td>\n",
              "      <td>f</td>\n",
              "      <td>f</td>\n",
              "      <td>f</td>\n",
              "      <td>f</td>\n",
              "      <td>f</td>\n",
              "      <td>f</td>\n",
              "      <td>f</td>\n",
              "      <td>...</td>\n",
              "      <td>t</td>\n",
              "      <td>175</td>\n",
              "      <td>f</td>\n",
              "      <td>?</td>\n",
              "      <td>f</td>\n",
              "      <td>?</td>\n",
              "      <td>f</td>\n",
              "      <td>?</td>\n",
              "      <td>other</td>\n",
              "      <td>P</td>\n",
              "    </tr>\n",
              "    <tr>\n",
              "      <th>4</th>\n",
              "      <td>70</td>\n",
              "      <td>F</td>\n",
              "      <td>f</td>\n",
              "      <td>f</td>\n",
              "      <td>f</td>\n",
              "      <td>f</td>\n",
              "      <td>f</td>\n",
              "      <td>f</td>\n",
              "      <td>f</td>\n",
              "      <td>f</td>\n",
              "      <td>...</td>\n",
              "      <td>t</td>\n",
              "      <td>61</td>\n",
              "      <td>t</td>\n",
              "      <td>0.87</td>\n",
              "      <td>t</td>\n",
              "      <td>70</td>\n",
              "      <td>f</td>\n",
              "      <td>?</td>\n",
              "      <td>SVI</td>\n",
              "      <td>P</td>\n",
              "    </tr>\n",
              "    <tr>\n",
              "      <th>...</th>\n",
              "      <td>...</td>\n",
              "      <td>...</td>\n",
              "      <td>...</td>\n",
              "      <td>...</td>\n",
              "      <td>...</td>\n",
              "      <td>...</td>\n",
              "      <td>...</td>\n",
              "      <td>...</td>\n",
              "      <td>...</td>\n",
              "      <td>...</td>\n",
              "      <td>...</td>\n",
              "      <td>...</td>\n",
              "      <td>...</td>\n",
              "      <td>...</td>\n",
              "      <td>...</td>\n",
              "      <td>...</td>\n",
              "      <td>...</td>\n",
              "      <td>...</td>\n",
              "      <td>...</td>\n",
              "      <td>...</td>\n",
              "      <td>...</td>\n",
              "    </tr>\n",
              "    <tr>\n",
              "      <th>3767</th>\n",
              "      <td>30</td>\n",
              "      <td>F</td>\n",
              "      <td>f</td>\n",
              "      <td>f</td>\n",
              "      <td>f</td>\n",
              "      <td>f</td>\n",
              "      <td>f</td>\n",
              "      <td>f</td>\n",
              "      <td>f</td>\n",
              "      <td>f</td>\n",
              "      <td>...</td>\n",
              "      <td>f</td>\n",
              "      <td>?</td>\n",
              "      <td>f</td>\n",
              "      <td>?</td>\n",
              "      <td>f</td>\n",
              "      <td>?</td>\n",
              "      <td>f</td>\n",
              "      <td>?</td>\n",
              "      <td>other</td>\n",
              "      <td>P</td>\n",
              "    </tr>\n",
              "    <tr>\n",
              "      <th>3768</th>\n",
              "      <td>68</td>\n",
              "      <td>F</td>\n",
              "      <td>f</td>\n",
              "      <td>f</td>\n",
              "      <td>f</td>\n",
              "      <td>f</td>\n",
              "      <td>f</td>\n",
              "      <td>f</td>\n",
              "      <td>f</td>\n",
              "      <td>f</td>\n",
              "      <td>...</td>\n",
              "      <td>t</td>\n",
              "      <td>124</td>\n",
              "      <td>t</td>\n",
              "      <td>1.08</td>\n",
              "      <td>t</td>\n",
              "      <td>114</td>\n",
              "      <td>f</td>\n",
              "      <td>?</td>\n",
              "      <td>SVI</td>\n",
              "      <td>P</td>\n",
              "    </tr>\n",
              "    <tr>\n",
              "      <th>3769</th>\n",
              "      <td>74</td>\n",
              "      <td>F</td>\n",
              "      <td>f</td>\n",
              "      <td>f</td>\n",
              "      <td>f</td>\n",
              "      <td>f</td>\n",
              "      <td>f</td>\n",
              "      <td>f</td>\n",
              "      <td>f</td>\n",
              "      <td>f</td>\n",
              "      <td>...</td>\n",
              "      <td>t</td>\n",
              "      <td>112</td>\n",
              "      <td>t</td>\n",
              "      <td>1.07</td>\n",
              "      <td>t</td>\n",
              "      <td>105</td>\n",
              "      <td>f</td>\n",
              "      <td>?</td>\n",
              "      <td>other</td>\n",
              "      <td>P</td>\n",
              "    </tr>\n",
              "    <tr>\n",
              "      <th>3770</th>\n",
              "      <td>72</td>\n",
              "      <td>M</td>\n",
              "      <td>f</td>\n",
              "      <td>f</td>\n",
              "      <td>f</td>\n",
              "      <td>f</td>\n",
              "      <td>f</td>\n",
              "      <td>f</td>\n",
              "      <td>f</td>\n",
              "      <td>f</td>\n",
              "      <td>...</td>\n",
              "      <td>t</td>\n",
              "      <td>82</td>\n",
              "      <td>t</td>\n",
              "      <td>0.94</td>\n",
              "      <td>t</td>\n",
              "      <td>87</td>\n",
              "      <td>f</td>\n",
              "      <td>?</td>\n",
              "      <td>SVI</td>\n",
              "      <td>P</td>\n",
              "    </tr>\n",
              "    <tr>\n",
              "      <th>3771</th>\n",
              "      <td>64</td>\n",
              "      <td>F</td>\n",
              "      <td>f</td>\n",
              "      <td>f</td>\n",
              "      <td>f</td>\n",
              "      <td>f</td>\n",
              "      <td>f</td>\n",
              "      <td>f</td>\n",
              "      <td>f</td>\n",
              "      <td>f</td>\n",
              "      <td>...</td>\n",
              "      <td>t</td>\n",
              "      <td>99</td>\n",
              "      <td>t</td>\n",
              "      <td>1.07</td>\n",
              "      <td>t</td>\n",
              "      <td>92</td>\n",
              "      <td>f</td>\n",
              "      <td>?</td>\n",
              "      <td>other</td>\n",
              "      <td>P</td>\n",
              "    </tr>\n",
              "  </tbody>\n",
              "</table>\n",
              "<p>3772 rows × 30 columns</p>\n",
              "</div>"
            ],
            "text/plain": [
              "     age sex on thyroxine query on thyroxine on antithyroid medication sick  \\\n",
              "0     41   F            f                  f                         f    f   \n",
              "1     23   F            f                  f                         f    f   \n",
              "2     46   M            f                  f                         f    f   \n",
              "3     70   F            t                  f                         f    f   \n",
              "4     70   F            f                  f                         f    f   \n",
              "...   ..  ..          ...                ...                       ...  ...   \n",
              "3767  30   F            f                  f                         f    f   \n",
              "3768  68   F            f                  f                         f    f   \n",
              "3769  74   F            f                  f                         f    f   \n",
              "3770  72   M            f                  f                         f    f   \n",
              "3771  64   F            f                  f                         f    f   \n",
              "\n",
              "     pregnant thyroid surgery I131 treatment query hypothyroid  ...  \\\n",
              "0           f               f              f                 f  ...   \n",
              "1           f               f              f                 f  ...   \n",
              "2           f               f              f                 f  ...   \n",
              "3           f               f              f                 f  ...   \n",
              "4           f               f              f                 f  ...   \n",
              "...       ...             ...            ...               ...  ...   \n",
              "3767        f               f              f                 f  ...   \n",
              "3768        f               f              f                 f  ...   \n",
              "3769        f               f              f                 f  ...   \n",
              "3770        f               f              f                 f  ...   \n",
              "3771        f               f              f                 f  ...   \n",
              "\n",
              "     TT4 measured  TT4 T4U measured   T4U FTI measured  FTI TBG measured TBG  \\\n",
              "0               t  125            t  1.14            t  109            f   ?   \n",
              "1               t  102            f     ?            f    ?            f   ?   \n",
              "2               t  109            t  0.91            t  120            f   ?   \n",
              "3               t  175            f     ?            f    ?            f   ?   \n",
              "4               t   61            t  0.87            t   70            f   ?   \n",
              "...           ...  ...          ...   ...          ...  ...          ...  ..   \n",
              "3767            f    ?            f     ?            f    ?            f   ?   \n",
              "3768            t  124            t  1.08            t  114            f   ?   \n",
              "3769            t  112            t  1.07            t  105            f   ?   \n",
              "3770            t   82            t  0.94            t   87            f   ?   \n",
              "3771            t   99            t  1.07            t   92            f   ?   \n",
              "\n",
              "     referral source binaryClass  \n",
              "0               SVHC           P  \n",
              "1              other           P  \n",
              "2              other           P  \n",
              "3              other           P  \n",
              "4                SVI           P  \n",
              "...              ...         ...  \n",
              "3767           other           P  \n",
              "3768             SVI           P  \n",
              "3769           other           P  \n",
              "3770             SVI           P  \n",
              "3771           other           P  \n",
              "\n",
              "[3772 rows x 30 columns]"
            ]
          },
          "execution_count": 7,
          "metadata": {},
          "output_type": "execute_result"
        }
      ],
      "source": [
        "df\n"
      ]
    },
    {
      "cell_type": "code",
      "execution_count": 8,
      "metadata": {
        "colab": {
          "base_uri": "https://localhost:8080/"
        },
        "id": "MZGOQ2WVI9zL",
        "outputId": "d4c2e994-f2a4-4300-bf21-a8efb1cbc48a"
      },
      "outputs": [
        {
          "data": {
            "text/plain": [
              "binaryClass\n",
              "P    3481\n",
              "N     291\n",
              "Name: count, dtype: int64"
            ]
          },
          "execution_count": 8,
          "metadata": {},
          "output_type": "execute_result"
        }
      ],
      "source": [
        "df[\"binaryClass\"].value_counts()\n"
      ]
    },
    {
      "cell_type": "code",
      "execution_count": 9,
      "metadata": {
        "id": "UopwSSBaJAlf"
      },
      "outputs": [],
      "source": [
        "df[\"binaryClass\"]=df[\"binaryClass\"].map({\"P\":0,\"N\":1})\n"
      ]
    },
    {
      "cell_type": "code",
      "execution_count": 10,
      "metadata": {
        "colab": {
          "base_uri": "https://localhost:8080/"
        },
        "id": "4DNsbvN6JDCU",
        "outputId": "54603318-f6be-4987-b807-6676753592fc"
      },
      "outputs": [
        {
          "data": {
            "text/plain": [
              "pregnant\n",
              "f    3719\n",
              "t      53\n",
              "Name: count, dtype: int64"
            ]
          },
          "execution_count": 10,
          "metadata": {},
          "output_type": "execute_result"
        }
      ],
      "source": [
        "df[\"pregnant\"].value_counts()\n"
      ]
    },
    {
      "cell_type": "code",
      "execution_count": 11,
      "metadata": {
        "id": "HgM3ENvaJNFg"
      },
      "outputs": [
        {
          "name": "stderr",
          "output_type": "stream",
          "text": [
            "C:\\Users\\kanna\\AppData\\Local\\Temp\\ipykernel_28208\\2701917258.py:1: FutureWarning: Downcasting behavior in `replace` is deprecated and will be removed in a future version. To retain the old behavior, explicitly call `result.infer_objects(copy=False)`. To opt-in to the future behavior, set `pd.set_option('future.no_silent_downcasting', True)`\n",
            "  df=df.replace({\"t\":1,\"f\":0})\n"
          ]
        }
      ],
      "source": [
        "df=df.replace({\"t\":1,\"f\":0})"
      ]
    },
    {
      "cell_type": "code",
      "execution_count": 12,
      "metadata": {
        "colab": {
          "base_uri": "https://localhost:8080/",
          "height": 522
        },
        "id": "cnqtmtXCJP_8",
        "outputId": "0f593446-3322-42e5-a371-e3527a522bfa"
      },
      "outputs": [
        {
          "data": {
            "text/html": [
              "<div>\n",
              "<style scoped>\n",
              "    .dataframe tbody tr th:only-of-type {\n",
              "        vertical-align: middle;\n",
              "    }\n",
              "\n",
              "    .dataframe tbody tr th {\n",
              "        vertical-align: top;\n",
              "    }\n",
              "\n",
              "    .dataframe thead th {\n",
              "        text-align: right;\n",
              "    }\n",
              "</style>\n",
              "<table border=\"1\" class=\"dataframe\">\n",
              "  <thead>\n",
              "    <tr style=\"text-align: right;\">\n",
              "      <th></th>\n",
              "      <th>age</th>\n",
              "      <th>sex</th>\n",
              "      <th>on thyroxine</th>\n",
              "      <th>query on thyroxine</th>\n",
              "      <th>on antithyroid medication</th>\n",
              "      <th>sick</th>\n",
              "      <th>pregnant</th>\n",
              "      <th>thyroid surgery</th>\n",
              "      <th>I131 treatment</th>\n",
              "      <th>query hypothyroid</th>\n",
              "      <th>...</th>\n",
              "      <th>TT4 measured</th>\n",
              "      <th>TT4</th>\n",
              "      <th>T4U measured</th>\n",
              "      <th>T4U</th>\n",
              "      <th>FTI measured</th>\n",
              "      <th>FTI</th>\n",
              "      <th>TBG measured</th>\n",
              "      <th>TBG</th>\n",
              "      <th>referral source</th>\n",
              "      <th>binaryClass</th>\n",
              "    </tr>\n",
              "  </thead>\n",
              "  <tbody>\n",
              "    <tr>\n",
              "      <th>0</th>\n",
              "      <td>41</td>\n",
              "      <td>F</td>\n",
              "      <td>0</td>\n",
              "      <td>0</td>\n",
              "      <td>0</td>\n",
              "      <td>0</td>\n",
              "      <td>0</td>\n",
              "      <td>0</td>\n",
              "      <td>0</td>\n",
              "      <td>0</td>\n",
              "      <td>...</td>\n",
              "      <td>1</td>\n",
              "      <td>125</td>\n",
              "      <td>1</td>\n",
              "      <td>1.14</td>\n",
              "      <td>1</td>\n",
              "      <td>109</td>\n",
              "      <td>0</td>\n",
              "      <td>?</td>\n",
              "      <td>SVHC</td>\n",
              "      <td>0</td>\n",
              "    </tr>\n",
              "    <tr>\n",
              "      <th>1</th>\n",
              "      <td>23</td>\n",
              "      <td>F</td>\n",
              "      <td>0</td>\n",
              "      <td>0</td>\n",
              "      <td>0</td>\n",
              "      <td>0</td>\n",
              "      <td>0</td>\n",
              "      <td>0</td>\n",
              "      <td>0</td>\n",
              "      <td>0</td>\n",
              "      <td>...</td>\n",
              "      <td>1</td>\n",
              "      <td>102</td>\n",
              "      <td>0</td>\n",
              "      <td>?</td>\n",
              "      <td>0</td>\n",
              "      <td>?</td>\n",
              "      <td>0</td>\n",
              "      <td>?</td>\n",
              "      <td>other</td>\n",
              "      <td>0</td>\n",
              "    </tr>\n",
              "    <tr>\n",
              "      <th>2</th>\n",
              "      <td>46</td>\n",
              "      <td>M</td>\n",
              "      <td>0</td>\n",
              "      <td>0</td>\n",
              "      <td>0</td>\n",
              "      <td>0</td>\n",
              "      <td>0</td>\n",
              "      <td>0</td>\n",
              "      <td>0</td>\n",
              "      <td>0</td>\n",
              "      <td>...</td>\n",
              "      <td>1</td>\n",
              "      <td>109</td>\n",
              "      <td>1</td>\n",
              "      <td>0.91</td>\n",
              "      <td>1</td>\n",
              "      <td>120</td>\n",
              "      <td>0</td>\n",
              "      <td>?</td>\n",
              "      <td>other</td>\n",
              "      <td>0</td>\n",
              "    </tr>\n",
              "    <tr>\n",
              "      <th>3</th>\n",
              "      <td>70</td>\n",
              "      <td>F</td>\n",
              "      <td>1</td>\n",
              "      <td>0</td>\n",
              "      <td>0</td>\n",
              "      <td>0</td>\n",
              "      <td>0</td>\n",
              "      <td>0</td>\n",
              "      <td>0</td>\n",
              "      <td>0</td>\n",
              "      <td>...</td>\n",
              "      <td>1</td>\n",
              "      <td>175</td>\n",
              "      <td>0</td>\n",
              "      <td>?</td>\n",
              "      <td>0</td>\n",
              "      <td>?</td>\n",
              "      <td>0</td>\n",
              "      <td>?</td>\n",
              "      <td>other</td>\n",
              "      <td>0</td>\n",
              "    </tr>\n",
              "    <tr>\n",
              "      <th>4</th>\n",
              "      <td>70</td>\n",
              "      <td>F</td>\n",
              "      <td>0</td>\n",
              "      <td>0</td>\n",
              "      <td>0</td>\n",
              "      <td>0</td>\n",
              "      <td>0</td>\n",
              "      <td>0</td>\n",
              "      <td>0</td>\n",
              "      <td>0</td>\n",
              "      <td>...</td>\n",
              "      <td>1</td>\n",
              "      <td>61</td>\n",
              "      <td>1</td>\n",
              "      <td>0.87</td>\n",
              "      <td>1</td>\n",
              "      <td>70</td>\n",
              "      <td>0</td>\n",
              "      <td>?</td>\n",
              "      <td>SVI</td>\n",
              "      <td>0</td>\n",
              "    </tr>\n",
              "    <tr>\n",
              "      <th>...</th>\n",
              "      <td>...</td>\n",
              "      <td>...</td>\n",
              "      <td>...</td>\n",
              "      <td>...</td>\n",
              "      <td>...</td>\n",
              "      <td>...</td>\n",
              "      <td>...</td>\n",
              "      <td>...</td>\n",
              "      <td>...</td>\n",
              "      <td>...</td>\n",
              "      <td>...</td>\n",
              "      <td>...</td>\n",
              "      <td>...</td>\n",
              "      <td>...</td>\n",
              "      <td>...</td>\n",
              "      <td>...</td>\n",
              "      <td>...</td>\n",
              "      <td>...</td>\n",
              "      <td>...</td>\n",
              "      <td>...</td>\n",
              "      <td>...</td>\n",
              "    </tr>\n",
              "    <tr>\n",
              "      <th>3767</th>\n",
              "      <td>30</td>\n",
              "      <td>F</td>\n",
              "      <td>0</td>\n",
              "      <td>0</td>\n",
              "      <td>0</td>\n",
              "      <td>0</td>\n",
              "      <td>0</td>\n",
              "      <td>0</td>\n",
              "      <td>0</td>\n",
              "      <td>0</td>\n",
              "      <td>...</td>\n",
              "      <td>0</td>\n",
              "      <td>?</td>\n",
              "      <td>0</td>\n",
              "      <td>?</td>\n",
              "      <td>0</td>\n",
              "      <td>?</td>\n",
              "      <td>0</td>\n",
              "      <td>?</td>\n",
              "      <td>other</td>\n",
              "      <td>0</td>\n",
              "    </tr>\n",
              "    <tr>\n",
              "      <th>3768</th>\n",
              "      <td>68</td>\n",
              "      <td>F</td>\n",
              "      <td>0</td>\n",
              "      <td>0</td>\n",
              "      <td>0</td>\n",
              "      <td>0</td>\n",
              "      <td>0</td>\n",
              "      <td>0</td>\n",
              "      <td>0</td>\n",
              "      <td>0</td>\n",
              "      <td>...</td>\n",
              "      <td>1</td>\n",
              "      <td>124</td>\n",
              "      <td>1</td>\n",
              "      <td>1.08</td>\n",
              "      <td>1</td>\n",
              "      <td>114</td>\n",
              "      <td>0</td>\n",
              "      <td>?</td>\n",
              "      <td>SVI</td>\n",
              "      <td>0</td>\n",
              "    </tr>\n",
              "    <tr>\n",
              "      <th>3769</th>\n",
              "      <td>74</td>\n",
              "      <td>F</td>\n",
              "      <td>0</td>\n",
              "      <td>0</td>\n",
              "      <td>0</td>\n",
              "      <td>0</td>\n",
              "      <td>0</td>\n",
              "      <td>0</td>\n",
              "      <td>0</td>\n",
              "      <td>0</td>\n",
              "      <td>...</td>\n",
              "      <td>1</td>\n",
              "      <td>112</td>\n",
              "      <td>1</td>\n",
              "      <td>1.07</td>\n",
              "      <td>1</td>\n",
              "      <td>105</td>\n",
              "      <td>0</td>\n",
              "      <td>?</td>\n",
              "      <td>other</td>\n",
              "      <td>0</td>\n",
              "    </tr>\n",
              "    <tr>\n",
              "      <th>3770</th>\n",
              "      <td>72</td>\n",
              "      <td>M</td>\n",
              "      <td>0</td>\n",
              "      <td>0</td>\n",
              "      <td>0</td>\n",
              "      <td>0</td>\n",
              "      <td>0</td>\n",
              "      <td>0</td>\n",
              "      <td>0</td>\n",
              "      <td>0</td>\n",
              "      <td>...</td>\n",
              "      <td>1</td>\n",
              "      <td>82</td>\n",
              "      <td>1</td>\n",
              "      <td>0.94</td>\n",
              "      <td>1</td>\n",
              "      <td>87</td>\n",
              "      <td>0</td>\n",
              "      <td>?</td>\n",
              "      <td>SVI</td>\n",
              "      <td>0</td>\n",
              "    </tr>\n",
              "    <tr>\n",
              "      <th>3771</th>\n",
              "      <td>64</td>\n",
              "      <td>F</td>\n",
              "      <td>0</td>\n",
              "      <td>0</td>\n",
              "      <td>0</td>\n",
              "      <td>0</td>\n",
              "      <td>0</td>\n",
              "      <td>0</td>\n",
              "      <td>0</td>\n",
              "      <td>0</td>\n",
              "      <td>...</td>\n",
              "      <td>1</td>\n",
              "      <td>99</td>\n",
              "      <td>1</td>\n",
              "      <td>1.07</td>\n",
              "      <td>1</td>\n",
              "      <td>92</td>\n",
              "      <td>0</td>\n",
              "      <td>?</td>\n",
              "      <td>other</td>\n",
              "      <td>0</td>\n",
              "    </tr>\n",
              "  </tbody>\n",
              "</table>\n",
              "<p>3772 rows × 30 columns</p>\n",
              "</div>"
            ],
            "text/plain": [
              "     age sex  on thyroxine  query on thyroxine  on antithyroid medication  \\\n",
              "0     41   F             0                   0                          0   \n",
              "1     23   F             0                   0                          0   \n",
              "2     46   M             0                   0                          0   \n",
              "3     70   F             1                   0                          0   \n",
              "4     70   F             0                   0                          0   \n",
              "...   ..  ..           ...                 ...                        ...   \n",
              "3767  30   F             0                   0                          0   \n",
              "3768  68   F             0                   0                          0   \n",
              "3769  74   F             0                   0                          0   \n",
              "3770  72   M             0                   0                          0   \n",
              "3771  64   F             0                   0                          0   \n",
              "\n",
              "      sick  pregnant  thyroid surgery  I131 treatment  query hypothyroid  ...  \\\n",
              "0        0         0                0               0                  0  ...   \n",
              "1        0         0                0               0                  0  ...   \n",
              "2        0         0                0               0                  0  ...   \n",
              "3        0         0                0               0                  0  ...   \n",
              "4        0         0                0               0                  0  ...   \n",
              "...    ...       ...              ...             ...                ...  ...   \n",
              "3767     0         0                0               0                  0  ...   \n",
              "3768     0         0                0               0                  0  ...   \n",
              "3769     0         0                0               0                  0  ...   \n",
              "3770     0         0                0               0                  0  ...   \n",
              "3771     0         0                0               0                  0  ...   \n",
              "\n",
              "      TT4 measured  TT4  T4U measured   T4U  FTI measured  FTI  TBG measured  \\\n",
              "0                1  125             1  1.14             1  109             0   \n",
              "1                1  102             0     ?             0    ?             0   \n",
              "2                1  109             1  0.91             1  120             0   \n",
              "3                1  175             0     ?             0    ?             0   \n",
              "4                1   61             1  0.87             1   70             0   \n",
              "...            ...  ...           ...   ...           ...  ...           ...   \n",
              "3767             0    ?             0     ?             0    ?             0   \n",
              "3768             1  124             1  1.08             1  114             0   \n",
              "3769             1  112             1  1.07             1  105             0   \n",
              "3770             1   82             1  0.94             1   87             0   \n",
              "3771             1   99             1  1.07             1   92             0   \n",
              "\n",
              "     TBG  referral source binaryClass  \n",
              "0      ?             SVHC           0  \n",
              "1      ?            other           0  \n",
              "2      ?            other           0  \n",
              "3      ?            other           0  \n",
              "4      ?              SVI           0  \n",
              "...   ..              ...         ...  \n",
              "3767   ?            other           0  \n",
              "3768   ?              SVI           0  \n",
              "3769   ?            other           0  \n",
              "3770   ?              SVI           0  \n",
              "3771   ?            other           0  \n",
              "\n",
              "[3772 rows x 30 columns]"
            ]
          },
          "execution_count": 12,
          "metadata": {},
          "output_type": "execute_result"
        }
      ],
      "source": [
        "df\n"
      ]
    },
    {
      "cell_type": "code",
      "execution_count": 14,
      "metadata": {
        "colab": {
          "base_uri": "https://localhost:8080/"
        },
        "id": "J2xfZDBGJRw3",
        "outputId": "29bff7e9-b520-4f66-d0cf-c664e40ff541"
      },
      "outputs": [
        {
          "data": {
            "text/plain": [
              "0"
            ]
          },
          "execution_count": 14,
          "metadata": {},
          "output_type": "execute_result"
        }
      ],
      "source": [
        "df['sex'].isnull().sum()\n"
      ]
    },
    {
      "cell_type": "code",
      "execution_count": 15,
      "metadata": {
        "colab": {
          "base_uri": "https://localhost:8080/"
        },
        "id": "n2TP3Jv4JUQS",
        "outputId": "b52e03d8-7744-45c6-e6a1-12a5f0d63014"
      },
      "outputs": [
        {
          "data": {
            "text/plain": [
              "TBG\n",
              "?    3772\n",
              "Name: count, dtype: int64"
            ]
          },
          "execution_count": 15,
          "metadata": {},
          "output_type": "execute_result"
        }
      ],
      "source": [
        "df[\"TBG\"].value_counts()\n"
      ]
    },
    {
      "cell_type": "code",
      "execution_count": 16,
      "metadata": {
        "id": "VNcn_E3ZJWo3"
      },
      "outputs": [],
      "source": [
        "del df[\"TBG\"]\n"
      ]
    },
    {
      "cell_type": "code",
      "execution_count": 17,
      "metadata": {
        "id": "zSoKoQ84JY96"
      },
      "outputs": [],
      "source": [
        "df=df.replace({\"?\":np.nan})\n"
      ]
    },
    {
      "cell_type": "code",
      "execution_count": 18,
      "metadata": {
        "colab": {
          "base_uri": "https://localhost:8080/"
        },
        "id": "VeC6UeBPJbKV",
        "outputId": "3b5d37e9-edd8-43dd-db1b-78f0ec671cd8"
      },
      "outputs": [
        {
          "data": {
            "text/plain": [
              "age                            1\n",
              "sex                          150\n",
              "on thyroxine                   0\n",
              "query on thyroxine             0\n",
              "on antithyroid medication      0\n",
              "sick                           0\n",
              "pregnant                       0\n",
              "thyroid surgery                0\n",
              "I131 treatment                 0\n",
              "query hypothyroid              0\n",
              "query hyperthyroid             0\n",
              "lithium                        0\n",
              "goitre                         0\n",
              "tumor                          0\n",
              "hypopituitary                  0\n",
              "psych                          0\n",
              "TSH measured                   0\n",
              "TSH                          369\n",
              "T3 measured                    0\n",
              "T3                           769\n",
              "TT4 measured                   0\n",
              "TT4                          231\n",
              "T4U measured                   0\n",
              "T4U                          387\n",
              "FTI measured                   0\n",
              "FTI                          385\n",
              "TBG measured                   0\n",
              "referral source                0\n",
              "binaryClass                    0\n",
              "dtype: int64"
            ]
          },
          "execution_count": 18,
          "metadata": {},
          "output_type": "execute_result"
        }
      ],
      "source": [
        "df.isnull().sum()\n"
      ]
    },
    {
      "cell_type": "code",
      "execution_count": 19,
      "metadata": {
        "colab": {
          "base_uri": "https://localhost:8080/"
        },
        "id": "D9yKl6xWJfzd",
        "outputId": "437cf86a-c046-4765-bfeb-3185bfa6377e"
      },
      "outputs": [
        {
          "data": {
            "text/plain": [
              "sex\n",
              "F    2480\n",
              "M    1142\n",
              "Name: count, dtype: int64"
            ]
          },
          "execution_count": 19,
          "metadata": {},
          "output_type": "execute_result"
        }
      ],
      "source": [
        "df[\"sex\"].value_counts()\n"
      ]
    },
    {
      "cell_type": "code",
      "execution_count": 20,
      "metadata": {
        "id": "HI3oDuEwJiYQ"
      },
      "outputs": [
        {
          "name": "stderr",
          "output_type": "stream",
          "text": [
            "C:\\Users\\kanna\\AppData\\Local\\Temp\\ipykernel_28208\\373277961.py:1: FutureWarning: Downcasting behavior in `replace` is deprecated and will be removed in a future version. To retain the old behavior, explicitly call `result.infer_objects(copy=False)`. To opt-in to the future behavior, set `pd.set_option('future.no_silent_downcasting', True)`\n",
            "  df=df.replace({\"F\":1,\"M\":0})\n"
          ]
        }
      ],
      "source": [
        "df=df.replace({\"F\":1,\"M\":0})\n"
      ]
    },
    {
      "cell_type": "code",
      "execution_count": 21,
      "metadata": {
        "colab": {
          "base_uri": "https://localhost:8080/"
        },
        "id": "nu98iR4LJkkt",
        "outputId": "8d6e5e9f-b138-4cf5-83d6-4f1044d6e6ac"
      },
      "outputs": [
        {
          "data": {
            "text/plain": [
              "referral source\n",
              "other    2201\n",
              "SVI      1034\n",
              "SVHC      386\n",
              "STMW      112\n",
              "SVHD       39\n",
              "Name: count, dtype: int64"
            ]
          },
          "execution_count": 21,
          "metadata": {},
          "output_type": "execute_result"
        }
      ],
      "source": [
        "df[\"referral source\"].value_counts()\n"
      ]
    },
    {
      "cell_type": "code",
      "execution_count": 22,
      "metadata": {
        "id": "WzwkW13YJmBC"
      },
      "outputs": [],
      "source": [
        "df = df.drop([\"referral source\"], axis=1)"
      ]
    },
    {
      "cell_type": "code",
      "execution_count": 23,
      "metadata": {
        "colab": {
          "base_uri": "https://localhost:8080/"
        },
        "id": "fRr1U32wJott",
        "outputId": "24918b8a-7818-41e4-aade-a4b4ac73c056"
      },
      "outputs": [
        {
          "name": "stdout",
          "output_type": "stream",
          "text": [
            "<class 'pandas.core.frame.DataFrame'>\n",
            "RangeIndex: 3772 entries, 0 to 3771\n",
            "Data columns (total 28 columns):\n",
            " #   Column                     Non-Null Count  Dtype  \n",
            "---  ------                     --------------  -----  \n",
            " 0   age                        3771 non-null   object \n",
            " 1   sex                        3622 non-null   float64\n",
            " 2   on thyroxine               3772 non-null   int64  \n",
            " 3   query on thyroxine         3772 non-null   int64  \n",
            " 4   on antithyroid medication  3772 non-null   int64  \n",
            " 5   sick                       3772 non-null   int64  \n",
            " 6   pregnant                   3772 non-null   int64  \n",
            " 7   thyroid surgery            3772 non-null   int64  \n",
            " 8   I131 treatment             3772 non-null   int64  \n",
            " 9   query hypothyroid          3772 non-null   int64  \n",
            " 10  query hyperthyroid         3772 non-null   int64  \n",
            " 11  lithium                    3772 non-null   int64  \n",
            " 12  goitre                     3772 non-null   int64  \n",
            " 13  tumor                      3772 non-null   int64  \n",
            " 14  hypopituitary              3772 non-null   int64  \n",
            " 15  psych                      3772 non-null   int64  \n",
            " 16  TSH measured               3772 non-null   int64  \n",
            " 17  TSH                        3403 non-null   object \n",
            " 18  T3 measured                3772 non-null   int64  \n",
            " 19  T3                         3003 non-null   object \n",
            " 20  TT4 measured               3772 non-null   int64  \n",
            " 21  TT4                        3541 non-null   object \n",
            " 22  T4U measured               3772 non-null   int64  \n",
            " 23  T4U                        3385 non-null   object \n",
            " 24  FTI measured               3772 non-null   int64  \n",
            " 25  FTI                        3387 non-null   object \n",
            " 26  TBG measured               3772 non-null   int64  \n",
            " 27  binaryClass                3772 non-null   int64  \n",
            "dtypes: float64(1), int64(21), object(6)\n",
            "memory usage: 825.2+ KB\n"
          ]
        }
      ],
      "source": [
        "df.info()\n"
      ]
    },
    {
      "cell_type": "code",
      "execution_count": 24,
      "metadata": {
        "colab": {
          "base_uri": "https://localhost:8080/"
        },
        "id": "sTVjnCZfJqAC",
        "outputId": "9e308a46-3358-46af-b5b6-5bd8665c491e"
      },
      "outputs": [
        {
          "data": {
            "text/plain": [
              "T3 measured\n",
              "1    3003\n",
              "0     769\n",
              "Name: count, dtype: int64"
            ]
          },
          "execution_count": 24,
          "metadata": {},
          "output_type": "execute_result"
        }
      ],
      "source": [
        "df[\"T3 measured\"].value_counts()\n"
      ]
    },
    {
      "cell_type": "code",
      "execution_count": 25,
      "metadata": {
        "colab": {
          "base_uri": "https://localhost:8080/"
        },
        "id": "AxpsYXq_JsSm",
        "outputId": "df480c6c-25f9-4b47-beb7-167678c11c70"
      },
      "outputs": [
        {
          "data": {
            "text/plain": [
              "TT4 measured\n",
              "1    3541\n",
              "0     231\n",
              "Name: count, dtype: int64"
            ]
          },
          "execution_count": 25,
          "metadata": {},
          "output_type": "execute_result"
        }
      ],
      "source": [
        "df[\"TT4 measured\"].value_counts()\n"
      ]
    },
    {
      "cell_type": "code",
      "execution_count": 26,
      "metadata": {
        "colab": {
          "base_uri": "https://localhost:8080/"
        },
        "id": "ZQrCKu-yJwK_",
        "outputId": "1736f0a9-0261-4af7-c20b-736339b60ea0"
      },
      "outputs": [
        {
          "data": {
            "text/plain": [
              "FTI measured\n",
              "1    3387\n",
              "0     385\n",
              "Name: count, dtype: int64"
            ]
          },
          "execution_count": 26,
          "metadata": {},
          "output_type": "execute_result"
        }
      ],
      "source": [
        "df[\"FTI measured\"].value_counts()\n"
      ]
    },
    {
      "cell_type": "code",
      "execution_count": 27,
      "metadata": {
        "colab": {
          "base_uri": "https://localhost:8080/"
        },
        "id": "NV3sKZl2JyYb",
        "outputId": "ef65276c-0365-42b4-d27d-775507fab3df"
      },
      "outputs": [
        {
          "data": {
            "text/plain": [
              "TBG measured\n",
              "0    3772\n",
              "Name: count, dtype: int64"
            ]
          },
          "execution_count": 27,
          "metadata": {},
          "output_type": "execute_result"
        }
      ],
      "source": [
        "df[\"TBG measured\"].value_counts()\n"
      ]
    },
    {
      "cell_type": "code",
      "execution_count": 28,
      "metadata": {
        "colab": {
          "base_uri": "https://localhost:8080/"
        },
        "id": "LSIkSOPjJ0No",
        "outputId": "66bd955f-975c-49e1-be37-4b97da44f44f"
      },
      "outputs": [
        {
          "data": {
            "text/plain": [
              "binaryClass\n",
              "0    3481\n",
              "1     291\n",
              "Name: count, dtype: int64"
            ]
          },
          "execution_count": 28,
          "metadata": {},
          "output_type": "execute_result"
        }
      ],
      "source": [
        "df[\"binaryClass\"].value_counts()\n"
      ]
    },
    {
      "cell_type": "code",
      "execution_count": 29,
      "metadata": {
        "colab": {
          "base_uri": "https://localhost:8080/"
        },
        "id": "D3eUmEI-J2nd",
        "outputId": "47411deb-9b45-4bff-9e52-1484e9dd7a91"
      },
      "outputs": [
        {
          "data": {
            "text/plain": [
              "age                           object\n",
              "sex                          float64\n",
              "on thyroxine                   int64\n",
              "query on thyroxine             int64\n",
              "on antithyroid medication      int64\n",
              "sick                           int64\n",
              "pregnant                       int64\n",
              "thyroid surgery                int64\n",
              "I131 treatment                 int64\n",
              "query hypothyroid              int64\n",
              "query hyperthyroid             int64\n",
              "lithium                        int64\n",
              "goitre                         int64\n",
              "tumor                          int64\n",
              "hypopituitary                  int64\n",
              "psych                          int64\n",
              "TSH measured                   int64\n",
              "TSH                           object\n",
              "T3 measured                    int64\n",
              "T3                            object\n",
              "TT4 measured                   int64\n",
              "TT4                           object\n",
              "T4U measured                   int64\n",
              "T4U                           object\n",
              "FTI measured                   int64\n",
              "FTI                           object\n",
              "TBG measured                   int64\n",
              "binaryClass                    int64\n",
              "dtype: object"
            ]
          },
          "execution_count": 29,
          "metadata": {},
          "output_type": "execute_result"
        }
      ],
      "source": [
        "df.dtypes"
      ]
    },
    {
      "cell_type": "code",
      "execution_count": 30,
      "metadata": {
        "colab": {
          "base_uri": "https://localhost:8080/"
        },
        "id": "lb8SsPQ-J4qR",
        "outputId": "c85292b8-76e9-4873-9b18-c01d86a6714b"
      },
      "outputs": [
        {
          "data": {
            "text/plain": [
              "age                          float64\n",
              "sex                          float64\n",
              "on thyroxine                   int64\n",
              "query on thyroxine             int64\n",
              "on antithyroid medication      int64\n",
              "sick                           int64\n",
              "pregnant                       int64\n",
              "thyroid surgery                int64\n",
              "I131 treatment                 int64\n",
              "query hypothyroid              int64\n",
              "query hyperthyroid             int64\n",
              "lithium                        int64\n",
              "goitre                         int64\n",
              "tumor                          int64\n",
              "hypopituitary                  int64\n",
              "psych                          int64\n",
              "TSH measured                   int64\n",
              "TSH                          float64\n",
              "T3 measured                    int64\n",
              "T3                           float64\n",
              "TT4 measured                   int64\n",
              "TT4                          float64\n",
              "T4U measured                   int64\n",
              "T4U                          float64\n",
              "FTI measured                   int64\n",
              "FTI                          float64\n",
              "TBG measured                   int64\n",
              "binaryClass                    int64\n",
              "dtype: object"
            ]
          },
          "execution_count": 30,
          "metadata": {},
          "output_type": "execute_result"
        }
      ],
      "source": [
        "cols = df.columns[df.dtypes.eq('object')]\n",
        "df[cols] = df[cols].apply(pd.to_numeric, errors='coerce')\n",
        "df.dtypes"
      ]
    },
    {
      "cell_type": "code",
      "execution_count": 31,
      "metadata": {
        "colab": {
          "base_uri": "https://localhost:8080/"
        },
        "id": "SXE3rI9FJ7B9",
        "outputId": "34b3313f-6777-492a-88fb-33ce0b24ebef"
      },
      "outputs": [
        {
          "data": {
            "text/plain": [
              "age                            1\n",
              "sex                          150\n",
              "on thyroxine                   0\n",
              "query on thyroxine             0\n",
              "on antithyroid medication      0\n",
              "sick                           0\n",
              "pregnant                       0\n",
              "thyroid surgery                0\n",
              "I131 treatment                 0\n",
              "query hypothyroid              0\n",
              "query hyperthyroid             0\n",
              "lithium                        0\n",
              "goitre                         0\n",
              "tumor                          0\n",
              "hypopituitary                  0\n",
              "psych                          0\n",
              "TSH measured                   0\n",
              "TSH                          369\n",
              "T3 measured                    0\n",
              "T3                           769\n",
              "TT4 measured                   0\n",
              "TT4                          231\n",
              "T4U measured                   0\n",
              "T4U                          387\n",
              "FTI measured                   0\n",
              "FTI                          385\n",
              "TBG measured                   0\n",
              "binaryClass                    0\n",
              "dtype: int64"
            ]
          },
          "execution_count": 31,
          "metadata": {},
          "output_type": "execute_result"
        }
      ],
      "source": [
        "df.isnull().sum()"
      ]
    },
    {
      "cell_type": "code",
      "execution_count": 32,
      "metadata": {
        "colab": {
          "base_uri": "https://localhost:8080/"
        },
        "id": "T9eLuCG6J-VP",
        "outputId": "6d9a1cd6-27eb-4dcb-9590-129bec48d719"
      },
      "outputs": [
        {
          "data": {
            "text/plain": [
              "0.8974019088016967"
            ]
          },
          "execution_count": 32,
          "metadata": {},
          "output_type": "execute_result"
        }
      ],
      "source": [
        "df['T4U measured'].mean()"
      ]
    },
    {
      "cell_type": "code",
      "execution_count": 33,
      "metadata": {
        "id": "fdmLgumjKEIk"
      },
      "outputs": [
        {
          "name": "stderr",
          "output_type": "stream",
          "text": [
            "C:\\Users\\kanna\\AppData\\Local\\Temp\\ipykernel_28208\\2815094702.py:1: FutureWarning: A value is trying to be set on a copy of a DataFrame or Series through chained assignment using an inplace method.\n",
            "The behavior will change in pandas 3.0. This inplace method will never work because the intermediate object on which we are setting values always behaves as a copy.\n",
            "\n",
            "For example, when doing 'df[col].method(value, inplace=True)', try using 'df.method({col: value}, inplace=True)' or df[col] = df[col].method(value) instead, to perform the operation inplace on the original object.\n",
            "\n",
            "\n",
            "  df['T4U measured'].fillna(df['T4U measured'].mean(), inplace=True)\n"
          ]
        }
      ],
      "source": [
        "df['T4U measured'].fillna(df['T4U measured'].mean(), inplace=True)"
      ]
    },
    {
      "cell_type": "code",
      "execution_count": 34,
      "metadata": {
        "id": "_wQEUpPjKGZW"
      },
      "outputs": [
        {
          "name": "stderr",
          "output_type": "stream",
          "text": [
            "C:\\Users\\kanna\\AppData\\Local\\Temp\\ipykernel_28208\\2421622677.py:1: FutureWarning: A value is trying to be set on a copy of a DataFrame or Series through chained assignment using an inplace method.\n",
            "The behavior will change in pandas 3.0. This inplace method will never work because the intermediate object on which we are setting values always behaves as a copy.\n",
            "\n",
            "For example, when doing 'df[col].method(value, inplace=True)', try using 'df.method({col: value}, inplace=True)' or df[col] = df[col].method(value) instead, to perform the operation inplace on the original object.\n",
            "\n",
            "\n",
            "  df['sex'].fillna(df['sex'].mean(), inplace=True)\n"
          ]
        }
      ],
      "source": [
        "df['sex'].fillna(df['sex'].mean(), inplace=True)"
      ]
    },
    {
      "cell_type": "code",
      "execution_count": 35,
      "metadata": {
        "id": "TyzhlAFCKH1k"
      },
      "outputs": [
        {
          "name": "stderr",
          "output_type": "stream",
          "text": [
            "C:\\Users\\kanna\\AppData\\Local\\Temp\\ipykernel_28208\\1503503937.py:1: FutureWarning: A value is trying to be set on a copy of a DataFrame or Series through chained assignment using an inplace method.\n",
            "The behavior will change in pandas 3.0. This inplace method will never work because the intermediate object on which we are setting values always behaves as a copy.\n",
            "\n",
            "For example, when doing 'df[col].method(value, inplace=True)', try using 'df.method({col: value}, inplace=True)' or df[col] = df[col].method(value) instead, to perform the operation inplace on the original object.\n",
            "\n",
            "\n",
            "  df['age'].fillna(df['age'].mean(), inplace=True)\n"
          ]
        }
      ],
      "source": [
        "df['age'].fillna(df['age'].mean(), inplace=True)"
      ]
    },
    {
      "cell_type": "code",
      "execution_count": 36,
      "metadata": {
        "id": "KlgdXCjtKJjJ"
      },
      "outputs": [],
      "source": [
        "from sklearn.impute import SimpleImputer\n",
        "\n",
        "imputer = SimpleImputer(strategy='mean')"
      ]
    },
    {
      "cell_type": "code",
      "execution_count": 37,
      "metadata": {
        "id": "b93fSJ5wKKu_"
      },
      "outputs": [],
      "source": [
        "df['TSH'] = imputer.fit_transform(df[['TSH']])"
      ]
    },
    {
      "cell_type": "code",
      "execution_count": 38,
      "metadata": {
        "id": "4TEbqES0lqre"
      },
      "outputs": [],
      "source": [
        "df['T3'] = imputer.fit_transform(df[['T3']])"
      ]
    },
    {
      "cell_type": "code",
      "execution_count": 39,
      "metadata": {
        "id": "lKCOkcJnltQB"
      },
      "outputs": [],
      "source": [
        "df['TT4'] = imputer.fit_transform(df[['TT4']])"
      ]
    },
    {
      "cell_type": "code",
      "execution_count": 40,
      "metadata": {
        "id": "cYYmRFa8lvoV"
      },
      "outputs": [],
      "source": [
        "df['T4U'] = imputer.fit_transform(df[['T4U']])"
      ]
    },
    {
      "cell_type": "code",
      "execution_count": 41,
      "metadata": {
        "id": "xM-crD6Flymo"
      },
      "outputs": [],
      "source": [
        "df['FTI'] = imputer.fit_transform(df[['FTI']])"
      ]
    },
    {
      "cell_type": "code",
      "execution_count": 42,
      "metadata": {
        "colab": {
          "base_uri": "https://localhost:8080/"
        },
        "id": "3N3rLopql0Nl",
        "outputId": "9029385a-f9f1-4a8f-e74b-f256e02d6491"
      },
      "outputs": [
        {
          "data": {
            "text/plain": [
              "age                          0\n",
              "sex                          0\n",
              "on thyroxine                 0\n",
              "query on thyroxine           0\n",
              "on antithyroid medication    0\n",
              "sick                         0\n",
              "pregnant                     0\n",
              "thyroid surgery              0\n",
              "I131 treatment               0\n",
              "query hypothyroid            0\n",
              "query hyperthyroid           0\n",
              "lithium                      0\n",
              "goitre                       0\n",
              "tumor                        0\n",
              "hypopituitary                0\n",
              "psych                        0\n",
              "TSH measured                 0\n",
              "TSH                          0\n",
              "T3 measured                  0\n",
              "T3                           0\n",
              "TT4 measured                 0\n",
              "TT4                          0\n",
              "T4U measured                 0\n",
              "T4U                          0\n",
              "FTI measured                 0\n",
              "FTI                          0\n",
              "TBG measured                 0\n",
              "binaryClass                  0\n",
              "dtype: int64"
            ]
          },
          "execution_count": 42,
          "metadata": {},
          "output_type": "execute_result"
        }
      ],
      "source": [
        "df.isnull().sum()"
      ]
    },
    {
      "cell_type": "code",
      "execution_count": 43,
      "metadata": {
        "colab": {
          "base_uri": "https://localhost:8080/",
          "height": 522
        },
        "id": "zhQ4KSpGl1ec",
        "outputId": "9e35ac39-d2a7-4eb1-87a1-474e0d53fe78"
      },
      "outputs": [
        {
          "data": {
            "text/html": [
              "<div>\n",
              "<style scoped>\n",
              "    .dataframe tbody tr th:only-of-type {\n",
              "        vertical-align: middle;\n",
              "    }\n",
              "\n",
              "    .dataframe tbody tr th {\n",
              "        vertical-align: top;\n",
              "    }\n",
              "\n",
              "    .dataframe thead th {\n",
              "        text-align: right;\n",
              "    }\n",
              "</style>\n",
              "<table border=\"1\" class=\"dataframe\">\n",
              "  <thead>\n",
              "    <tr style=\"text-align: right;\">\n",
              "      <th></th>\n",
              "      <th>age</th>\n",
              "      <th>sex</th>\n",
              "      <th>on thyroxine</th>\n",
              "      <th>query on thyroxine</th>\n",
              "      <th>on antithyroid medication</th>\n",
              "      <th>sick</th>\n",
              "      <th>pregnant</th>\n",
              "      <th>thyroid surgery</th>\n",
              "      <th>I131 treatment</th>\n",
              "      <th>query hypothyroid</th>\n",
              "      <th>...</th>\n",
              "      <th>T3 measured</th>\n",
              "      <th>T3</th>\n",
              "      <th>TT4 measured</th>\n",
              "      <th>TT4</th>\n",
              "      <th>T4U measured</th>\n",
              "      <th>T4U</th>\n",
              "      <th>FTI measured</th>\n",
              "      <th>FTI</th>\n",
              "      <th>TBG measured</th>\n",
              "      <th>binaryClass</th>\n",
              "    </tr>\n",
              "  </thead>\n",
              "  <tbody>\n",
              "    <tr>\n",
              "      <th>0</th>\n",
              "      <td>41.0</td>\n",
              "      <td>1.0</td>\n",
              "      <td>0</td>\n",
              "      <td>0</td>\n",
              "      <td>0</td>\n",
              "      <td>0</td>\n",
              "      <td>0</td>\n",
              "      <td>0</td>\n",
              "      <td>0</td>\n",
              "      <td>0</td>\n",
              "      <td>...</td>\n",
              "      <td>1</td>\n",
              "      <td>2.5000</td>\n",
              "      <td>1</td>\n",
              "      <td>125.000000</td>\n",
              "      <td>1</td>\n",
              "      <td>1.140</td>\n",
              "      <td>1</td>\n",
              "      <td>109.000000</td>\n",
              "      <td>0</td>\n",
              "      <td>0</td>\n",
              "    </tr>\n",
              "    <tr>\n",
              "      <th>1</th>\n",
              "      <td>23.0</td>\n",
              "      <td>1.0</td>\n",
              "      <td>0</td>\n",
              "      <td>0</td>\n",
              "      <td>0</td>\n",
              "      <td>0</td>\n",
              "      <td>0</td>\n",
              "      <td>0</td>\n",
              "      <td>0</td>\n",
              "      <td>0</td>\n",
              "      <td>...</td>\n",
              "      <td>1</td>\n",
              "      <td>2.0000</td>\n",
              "      <td>1</td>\n",
              "      <td>102.000000</td>\n",
              "      <td>0</td>\n",
              "      <td>0.995</td>\n",
              "      <td>0</td>\n",
              "      <td>110.469649</td>\n",
              "      <td>0</td>\n",
              "      <td>0</td>\n",
              "    </tr>\n",
              "    <tr>\n",
              "      <th>2</th>\n",
              "      <td>46.0</td>\n",
              "      <td>0.0</td>\n",
              "      <td>0</td>\n",
              "      <td>0</td>\n",
              "      <td>0</td>\n",
              "      <td>0</td>\n",
              "      <td>0</td>\n",
              "      <td>0</td>\n",
              "      <td>0</td>\n",
              "      <td>0</td>\n",
              "      <td>...</td>\n",
              "      <td>0</td>\n",
              "      <td>2.0135</td>\n",
              "      <td>1</td>\n",
              "      <td>109.000000</td>\n",
              "      <td>1</td>\n",
              "      <td>0.910</td>\n",
              "      <td>1</td>\n",
              "      <td>120.000000</td>\n",
              "      <td>0</td>\n",
              "      <td>0</td>\n",
              "    </tr>\n",
              "    <tr>\n",
              "      <th>3</th>\n",
              "      <td>70.0</td>\n",
              "      <td>1.0</td>\n",
              "      <td>1</td>\n",
              "      <td>0</td>\n",
              "      <td>0</td>\n",
              "      <td>0</td>\n",
              "      <td>0</td>\n",
              "      <td>0</td>\n",
              "      <td>0</td>\n",
              "      <td>0</td>\n",
              "      <td>...</td>\n",
              "      <td>1</td>\n",
              "      <td>1.9000</td>\n",
              "      <td>1</td>\n",
              "      <td>175.000000</td>\n",
              "      <td>0</td>\n",
              "      <td>0.995</td>\n",
              "      <td>0</td>\n",
              "      <td>110.469649</td>\n",
              "      <td>0</td>\n",
              "      <td>0</td>\n",
              "    </tr>\n",
              "    <tr>\n",
              "      <th>4</th>\n",
              "      <td>70.0</td>\n",
              "      <td>1.0</td>\n",
              "      <td>0</td>\n",
              "      <td>0</td>\n",
              "      <td>0</td>\n",
              "      <td>0</td>\n",
              "      <td>0</td>\n",
              "      <td>0</td>\n",
              "      <td>0</td>\n",
              "      <td>0</td>\n",
              "      <td>...</td>\n",
              "      <td>1</td>\n",
              "      <td>1.2000</td>\n",
              "      <td>1</td>\n",
              "      <td>61.000000</td>\n",
              "      <td>1</td>\n",
              "      <td>0.870</td>\n",
              "      <td>1</td>\n",
              "      <td>70.000000</td>\n",
              "      <td>0</td>\n",
              "      <td>0</td>\n",
              "    </tr>\n",
              "    <tr>\n",
              "      <th>...</th>\n",
              "      <td>...</td>\n",
              "      <td>...</td>\n",
              "      <td>...</td>\n",
              "      <td>...</td>\n",
              "      <td>...</td>\n",
              "      <td>...</td>\n",
              "      <td>...</td>\n",
              "      <td>...</td>\n",
              "      <td>...</td>\n",
              "      <td>...</td>\n",
              "      <td>...</td>\n",
              "      <td>...</td>\n",
              "      <td>...</td>\n",
              "      <td>...</td>\n",
              "      <td>...</td>\n",
              "      <td>...</td>\n",
              "      <td>...</td>\n",
              "      <td>...</td>\n",
              "      <td>...</td>\n",
              "      <td>...</td>\n",
              "      <td>...</td>\n",
              "    </tr>\n",
              "    <tr>\n",
              "      <th>3767</th>\n",
              "      <td>30.0</td>\n",
              "      <td>1.0</td>\n",
              "      <td>0</td>\n",
              "      <td>0</td>\n",
              "      <td>0</td>\n",
              "      <td>0</td>\n",
              "      <td>0</td>\n",
              "      <td>0</td>\n",
              "      <td>0</td>\n",
              "      <td>0</td>\n",
              "      <td>...</td>\n",
              "      <td>0</td>\n",
              "      <td>2.0135</td>\n",
              "      <td>0</td>\n",
              "      <td>108.319345</td>\n",
              "      <td>0</td>\n",
              "      <td>0.995</td>\n",
              "      <td>0</td>\n",
              "      <td>110.469649</td>\n",
              "      <td>0</td>\n",
              "      <td>0</td>\n",
              "    </tr>\n",
              "    <tr>\n",
              "      <th>3768</th>\n",
              "      <td>68.0</td>\n",
              "      <td>1.0</td>\n",
              "      <td>0</td>\n",
              "      <td>0</td>\n",
              "      <td>0</td>\n",
              "      <td>0</td>\n",
              "      <td>0</td>\n",
              "      <td>0</td>\n",
              "      <td>0</td>\n",
              "      <td>0</td>\n",
              "      <td>...</td>\n",
              "      <td>1</td>\n",
              "      <td>2.1000</td>\n",
              "      <td>1</td>\n",
              "      <td>124.000000</td>\n",
              "      <td>1</td>\n",
              "      <td>1.080</td>\n",
              "      <td>1</td>\n",
              "      <td>114.000000</td>\n",
              "      <td>0</td>\n",
              "      <td>0</td>\n",
              "    </tr>\n",
              "    <tr>\n",
              "      <th>3769</th>\n",
              "      <td>74.0</td>\n",
              "      <td>1.0</td>\n",
              "      <td>0</td>\n",
              "      <td>0</td>\n",
              "      <td>0</td>\n",
              "      <td>0</td>\n",
              "      <td>0</td>\n",
              "      <td>0</td>\n",
              "      <td>0</td>\n",
              "      <td>0</td>\n",
              "      <td>...</td>\n",
              "      <td>1</td>\n",
              "      <td>1.8000</td>\n",
              "      <td>1</td>\n",
              "      <td>112.000000</td>\n",
              "      <td>1</td>\n",
              "      <td>1.070</td>\n",
              "      <td>1</td>\n",
              "      <td>105.000000</td>\n",
              "      <td>0</td>\n",
              "      <td>0</td>\n",
              "    </tr>\n",
              "    <tr>\n",
              "      <th>3770</th>\n",
              "      <td>72.0</td>\n",
              "      <td>0.0</td>\n",
              "      <td>0</td>\n",
              "      <td>0</td>\n",
              "      <td>0</td>\n",
              "      <td>0</td>\n",
              "      <td>0</td>\n",
              "      <td>0</td>\n",
              "      <td>0</td>\n",
              "      <td>0</td>\n",
              "      <td>...</td>\n",
              "      <td>1</td>\n",
              "      <td>2.0000</td>\n",
              "      <td>1</td>\n",
              "      <td>82.000000</td>\n",
              "      <td>1</td>\n",
              "      <td>0.940</td>\n",
              "      <td>1</td>\n",
              "      <td>87.000000</td>\n",
              "      <td>0</td>\n",
              "      <td>0</td>\n",
              "    </tr>\n",
              "    <tr>\n",
              "      <th>3771</th>\n",
              "      <td>64.0</td>\n",
              "      <td>1.0</td>\n",
              "      <td>0</td>\n",
              "      <td>0</td>\n",
              "      <td>0</td>\n",
              "      <td>0</td>\n",
              "      <td>0</td>\n",
              "      <td>0</td>\n",
              "      <td>0</td>\n",
              "      <td>0</td>\n",
              "      <td>...</td>\n",
              "      <td>1</td>\n",
              "      <td>2.2000</td>\n",
              "      <td>1</td>\n",
              "      <td>99.000000</td>\n",
              "      <td>1</td>\n",
              "      <td>1.070</td>\n",
              "      <td>1</td>\n",
              "      <td>92.000000</td>\n",
              "      <td>0</td>\n",
              "      <td>0</td>\n",
              "    </tr>\n",
              "  </tbody>\n",
              "</table>\n",
              "<p>3772 rows × 28 columns</p>\n",
              "</div>"
            ],
            "text/plain": [
              "       age  sex  on thyroxine  query on thyroxine  on antithyroid medication  \\\n",
              "0     41.0  1.0             0                   0                          0   \n",
              "1     23.0  1.0             0                   0                          0   \n",
              "2     46.0  0.0             0                   0                          0   \n",
              "3     70.0  1.0             1                   0                          0   \n",
              "4     70.0  1.0             0                   0                          0   \n",
              "...    ...  ...           ...                 ...                        ...   \n",
              "3767  30.0  1.0             0                   0                          0   \n",
              "3768  68.0  1.0             0                   0                          0   \n",
              "3769  74.0  1.0             0                   0                          0   \n",
              "3770  72.0  0.0             0                   0                          0   \n",
              "3771  64.0  1.0             0                   0                          0   \n",
              "\n",
              "      sick  pregnant  thyroid surgery  I131 treatment  query hypothyroid  ...  \\\n",
              "0        0         0                0               0                  0  ...   \n",
              "1        0         0                0               0                  0  ...   \n",
              "2        0         0                0               0                  0  ...   \n",
              "3        0         0                0               0                  0  ...   \n",
              "4        0         0                0               0                  0  ...   \n",
              "...    ...       ...              ...             ...                ...  ...   \n",
              "3767     0         0                0               0                  0  ...   \n",
              "3768     0         0                0               0                  0  ...   \n",
              "3769     0         0                0               0                  0  ...   \n",
              "3770     0         0                0               0                  0  ...   \n",
              "3771     0         0                0               0                  0  ...   \n",
              "\n",
              "      T3 measured      T3  TT4 measured         TT4  T4U measured    T4U  \\\n",
              "0               1  2.5000             1  125.000000             1  1.140   \n",
              "1               1  2.0000             1  102.000000             0  0.995   \n",
              "2               0  2.0135             1  109.000000             1  0.910   \n",
              "3               1  1.9000             1  175.000000             0  0.995   \n",
              "4               1  1.2000             1   61.000000             1  0.870   \n",
              "...           ...     ...           ...         ...           ...    ...   \n",
              "3767            0  2.0135             0  108.319345             0  0.995   \n",
              "3768            1  2.1000             1  124.000000             1  1.080   \n",
              "3769            1  1.8000             1  112.000000             1  1.070   \n",
              "3770            1  2.0000             1   82.000000             1  0.940   \n",
              "3771            1  2.2000             1   99.000000             1  1.070   \n",
              "\n",
              "      FTI measured         FTI  TBG measured  binaryClass  \n",
              "0                1  109.000000             0            0  \n",
              "1                0  110.469649             0            0  \n",
              "2                1  120.000000             0            0  \n",
              "3                0  110.469649             0            0  \n",
              "4                1   70.000000             0            0  \n",
              "...            ...         ...           ...          ...  \n",
              "3767             0  110.469649             0            0  \n",
              "3768             1  114.000000             0            0  \n",
              "3769             1  105.000000             0            0  \n",
              "3770             1   87.000000             0            0  \n",
              "3771             1   92.000000             0            0  \n",
              "\n",
              "[3772 rows x 28 columns]"
            ]
          },
          "execution_count": 43,
          "metadata": {},
          "output_type": "execute_result"
        }
      ],
      "source": [
        "df"
      ]
    },
    {
      "cell_type": "code",
      "execution_count": 44,
      "metadata": {
        "colab": {
          "base_uri": "https://localhost:8080/"
        },
        "id": "UneXP07bl3u3",
        "outputId": "9cac09d2-1f75-4e82-9299-d9f98afea108"
      },
      "outputs": [
        {
          "data": {
            "text/plain": [
              "Index(['age', 'sex', 'on thyroxine', 'query on thyroxine',\n",
              "       'on antithyroid medication', 'sick', 'pregnant', 'thyroid surgery',\n",
              "       'I131 treatment', 'query hypothyroid', 'query hyperthyroid', 'lithium',\n",
              "       'goitre', 'tumor', 'hypopituitary', 'psych', 'TSH measured', 'TSH',\n",
              "       'T3 measured', 'T3', 'TT4 measured', 'TT4', 'T4U measured', 'T4U',\n",
              "       'FTI measured', 'FTI', 'TBG measured', 'binaryClass'],\n",
              "      dtype='object')"
            ]
          },
          "execution_count": 44,
          "metadata": {},
          "output_type": "execute_result"
        }
      ],
      "source": [
        "df.columns"
      ]
    },
    {
      "cell_type": "code",
      "execution_count": 45,
      "metadata": {
        "id": "nY5BftHCFLWg"
      },
      "outputs": [],
      "source": [
        "df.to_csv('prepocessed_hyperthyroid.csv')"
      ]
    },
    {
      "cell_type": "code",
      "execution_count": 46,
      "metadata": {
        "id": "xCtCUjtfmkot"
      },
      "outputs": [],
      "source": [
        "x = df.drop('binaryClass', axis=1)\n",
        "y = df['binaryClass']"
      ]
    },
    {
      "cell_type": "code",
      "execution_count": 47,
      "metadata": {
        "colab": {
          "base_uri": "https://localhost:8080/",
          "height": 334
        },
        "id": "Qhpvsy226YE3",
        "outputId": "d16b2e4e-2bfc-4cab-88c0-05272a1c7c1e"
      },
      "outputs": [
        {
          "data": {
            "text/html": [
              "<div>\n",
              "<style scoped>\n",
              "    .dataframe tbody tr th:only-of-type {\n",
              "        vertical-align: middle;\n",
              "    }\n",
              "\n",
              "    .dataframe tbody tr th {\n",
              "        vertical-align: top;\n",
              "    }\n",
              "\n",
              "    .dataframe thead th {\n",
              "        text-align: right;\n",
              "    }\n",
              "</style>\n",
              "<table border=\"1\" class=\"dataframe\">\n",
              "  <thead>\n",
              "    <tr style=\"text-align: right;\">\n",
              "      <th></th>\n",
              "      <th>age</th>\n",
              "      <th>sex</th>\n",
              "      <th>on thyroxine</th>\n",
              "      <th>query on thyroxine</th>\n",
              "      <th>on antithyroid medication</th>\n",
              "      <th>sick</th>\n",
              "      <th>pregnant</th>\n",
              "      <th>thyroid surgery</th>\n",
              "      <th>I131 treatment</th>\n",
              "      <th>query hypothyroid</th>\n",
              "      <th>...</th>\n",
              "      <th>T3 measured</th>\n",
              "      <th>T3</th>\n",
              "      <th>TT4 measured</th>\n",
              "      <th>TT4</th>\n",
              "      <th>T4U measured</th>\n",
              "      <th>T4U</th>\n",
              "      <th>FTI measured</th>\n",
              "      <th>FTI</th>\n",
              "      <th>TBG measured</th>\n",
              "      <th>binaryClass</th>\n",
              "    </tr>\n",
              "  </thead>\n",
              "  <tbody>\n",
              "    <tr>\n",
              "      <th>0</th>\n",
              "      <td>41.0</td>\n",
              "      <td>1.0</td>\n",
              "      <td>0</td>\n",
              "      <td>0</td>\n",
              "      <td>0</td>\n",
              "      <td>0</td>\n",
              "      <td>0</td>\n",
              "      <td>0</td>\n",
              "      <td>0</td>\n",
              "      <td>0</td>\n",
              "      <td>...</td>\n",
              "      <td>1</td>\n",
              "      <td>2.5000</td>\n",
              "      <td>1</td>\n",
              "      <td>125.0</td>\n",
              "      <td>1</td>\n",
              "      <td>1.140</td>\n",
              "      <td>1</td>\n",
              "      <td>109.000000</td>\n",
              "      <td>0</td>\n",
              "      <td>0</td>\n",
              "    </tr>\n",
              "    <tr>\n",
              "      <th>1</th>\n",
              "      <td>23.0</td>\n",
              "      <td>1.0</td>\n",
              "      <td>0</td>\n",
              "      <td>0</td>\n",
              "      <td>0</td>\n",
              "      <td>0</td>\n",
              "      <td>0</td>\n",
              "      <td>0</td>\n",
              "      <td>0</td>\n",
              "      <td>0</td>\n",
              "      <td>...</td>\n",
              "      <td>1</td>\n",
              "      <td>2.0000</td>\n",
              "      <td>1</td>\n",
              "      <td>102.0</td>\n",
              "      <td>0</td>\n",
              "      <td>0.995</td>\n",
              "      <td>0</td>\n",
              "      <td>110.469649</td>\n",
              "      <td>0</td>\n",
              "      <td>0</td>\n",
              "    </tr>\n",
              "    <tr>\n",
              "      <th>2</th>\n",
              "      <td>46.0</td>\n",
              "      <td>0.0</td>\n",
              "      <td>0</td>\n",
              "      <td>0</td>\n",
              "      <td>0</td>\n",
              "      <td>0</td>\n",
              "      <td>0</td>\n",
              "      <td>0</td>\n",
              "      <td>0</td>\n",
              "      <td>0</td>\n",
              "      <td>...</td>\n",
              "      <td>0</td>\n",
              "      <td>2.0135</td>\n",
              "      <td>1</td>\n",
              "      <td>109.0</td>\n",
              "      <td>1</td>\n",
              "      <td>0.910</td>\n",
              "      <td>1</td>\n",
              "      <td>120.000000</td>\n",
              "      <td>0</td>\n",
              "      <td>0</td>\n",
              "    </tr>\n",
              "    <tr>\n",
              "      <th>3</th>\n",
              "      <td>70.0</td>\n",
              "      <td>1.0</td>\n",
              "      <td>1</td>\n",
              "      <td>0</td>\n",
              "      <td>0</td>\n",
              "      <td>0</td>\n",
              "      <td>0</td>\n",
              "      <td>0</td>\n",
              "      <td>0</td>\n",
              "      <td>0</td>\n",
              "      <td>...</td>\n",
              "      <td>1</td>\n",
              "      <td>1.9000</td>\n",
              "      <td>1</td>\n",
              "      <td>175.0</td>\n",
              "      <td>0</td>\n",
              "      <td>0.995</td>\n",
              "      <td>0</td>\n",
              "      <td>110.469649</td>\n",
              "      <td>0</td>\n",
              "      <td>0</td>\n",
              "    </tr>\n",
              "    <tr>\n",
              "      <th>4</th>\n",
              "      <td>70.0</td>\n",
              "      <td>1.0</td>\n",
              "      <td>0</td>\n",
              "      <td>0</td>\n",
              "      <td>0</td>\n",
              "      <td>0</td>\n",
              "      <td>0</td>\n",
              "      <td>0</td>\n",
              "      <td>0</td>\n",
              "      <td>0</td>\n",
              "      <td>...</td>\n",
              "      <td>1</td>\n",
              "      <td>1.2000</td>\n",
              "      <td>1</td>\n",
              "      <td>61.0</td>\n",
              "      <td>1</td>\n",
              "      <td>0.870</td>\n",
              "      <td>1</td>\n",
              "      <td>70.000000</td>\n",
              "      <td>0</td>\n",
              "      <td>0</td>\n",
              "    </tr>\n",
              "  </tbody>\n",
              "</table>\n",
              "<p>5 rows × 28 columns</p>\n",
              "</div>"
            ],
            "text/plain": [
              "    age  sex  on thyroxine  query on thyroxine  on antithyroid medication  \\\n",
              "0  41.0  1.0             0                   0                          0   \n",
              "1  23.0  1.0             0                   0                          0   \n",
              "2  46.0  0.0             0                   0                          0   \n",
              "3  70.0  1.0             1                   0                          0   \n",
              "4  70.0  1.0             0                   0                          0   \n",
              "\n",
              "   sick  pregnant  thyroid surgery  I131 treatment  query hypothyroid  ...  \\\n",
              "0     0         0                0               0                  0  ...   \n",
              "1     0         0                0               0                  0  ...   \n",
              "2     0         0                0               0                  0  ...   \n",
              "3     0         0                0               0                  0  ...   \n",
              "4     0         0                0               0                  0  ...   \n",
              "\n",
              "   T3 measured      T3  TT4 measured    TT4  T4U measured    T4U  \\\n",
              "0            1  2.5000             1  125.0             1  1.140   \n",
              "1            1  2.0000             1  102.0             0  0.995   \n",
              "2            0  2.0135             1  109.0             1  0.910   \n",
              "3            1  1.9000             1  175.0             0  0.995   \n",
              "4            1  1.2000             1   61.0             1  0.870   \n",
              "\n",
              "   FTI measured         FTI  TBG measured  binaryClass  \n",
              "0             1  109.000000             0            0  \n",
              "1             0  110.469649             0            0  \n",
              "2             1  120.000000             0            0  \n",
              "3             0  110.469649             0            0  \n",
              "4             1   70.000000             0            0  \n",
              "\n",
              "[5 rows x 28 columns]"
            ]
          },
          "execution_count": 47,
          "metadata": {},
          "output_type": "execute_result"
        }
      ],
      "source": [
        "df.head()"
      ]
    },
    {
      "cell_type": "code",
      "execution_count": 48,
      "metadata": {
        "colab": {
          "base_uri": "https://localhost:8080/",
          "height": 334
        },
        "id": "4GLQndhKhTcj",
        "outputId": "41a3ed75-0554-405b-df40-dfe9433c8bb2"
      },
      "outputs": [
        {
          "data": {
            "text/html": [
              "<div>\n",
              "<style scoped>\n",
              "    .dataframe tbody tr th:only-of-type {\n",
              "        vertical-align: middle;\n",
              "    }\n",
              "\n",
              "    .dataframe tbody tr th {\n",
              "        vertical-align: top;\n",
              "    }\n",
              "\n",
              "    .dataframe thead th {\n",
              "        text-align: right;\n",
              "    }\n",
              "</style>\n",
              "<table border=\"1\" class=\"dataframe\">\n",
              "  <thead>\n",
              "    <tr style=\"text-align: right;\">\n",
              "      <th></th>\n",
              "      <th>age</th>\n",
              "      <th>sex</th>\n",
              "      <th>on thyroxine</th>\n",
              "      <th>query on thyroxine</th>\n",
              "      <th>on antithyroid medication</th>\n",
              "      <th>sick</th>\n",
              "      <th>pregnant</th>\n",
              "      <th>thyroid surgery</th>\n",
              "      <th>I131 treatment</th>\n",
              "      <th>query hypothyroid</th>\n",
              "      <th>...</th>\n",
              "      <th>TSH</th>\n",
              "      <th>T3 measured</th>\n",
              "      <th>T3</th>\n",
              "      <th>TT4 measured</th>\n",
              "      <th>TT4</th>\n",
              "      <th>T4U measured</th>\n",
              "      <th>T4U</th>\n",
              "      <th>FTI measured</th>\n",
              "      <th>FTI</th>\n",
              "      <th>TBG measured</th>\n",
              "    </tr>\n",
              "  </thead>\n",
              "  <tbody>\n",
              "    <tr>\n",
              "      <th>0</th>\n",
              "      <td>41.0</td>\n",
              "      <td>1.0</td>\n",
              "      <td>0</td>\n",
              "      <td>0</td>\n",
              "      <td>0</td>\n",
              "      <td>0</td>\n",
              "      <td>0</td>\n",
              "      <td>0</td>\n",
              "      <td>0</td>\n",
              "      <td>0</td>\n",
              "      <td>...</td>\n",
              "      <td>1.30</td>\n",
              "      <td>1</td>\n",
              "      <td>2.5000</td>\n",
              "      <td>1</td>\n",
              "      <td>125.0</td>\n",
              "      <td>1</td>\n",
              "      <td>1.140</td>\n",
              "      <td>1</td>\n",
              "      <td>109.000000</td>\n",
              "      <td>0</td>\n",
              "    </tr>\n",
              "    <tr>\n",
              "      <th>1</th>\n",
              "      <td>23.0</td>\n",
              "      <td>1.0</td>\n",
              "      <td>0</td>\n",
              "      <td>0</td>\n",
              "      <td>0</td>\n",
              "      <td>0</td>\n",
              "      <td>0</td>\n",
              "      <td>0</td>\n",
              "      <td>0</td>\n",
              "      <td>0</td>\n",
              "      <td>...</td>\n",
              "      <td>4.10</td>\n",
              "      <td>1</td>\n",
              "      <td>2.0000</td>\n",
              "      <td>1</td>\n",
              "      <td>102.0</td>\n",
              "      <td>0</td>\n",
              "      <td>0.995</td>\n",
              "      <td>0</td>\n",
              "      <td>110.469649</td>\n",
              "      <td>0</td>\n",
              "    </tr>\n",
              "    <tr>\n",
              "      <th>2</th>\n",
              "      <td>46.0</td>\n",
              "      <td>0.0</td>\n",
              "      <td>0</td>\n",
              "      <td>0</td>\n",
              "      <td>0</td>\n",
              "      <td>0</td>\n",
              "      <td>0</td>\n",
              "      <td>0</td>\n",
              "      <td>0</td>\n",
              "      <td>0</td>\n",
              "      <td>...</td>\n",
              "      <td>0.98</td>\n",
              "      <td>0</td>\n",
              "      <td>2.0135</td>\n",
              "      <td>1</td>\n",
              "      <td>109.0</td>\n",
              "      <td>1</td>\n",
              "      <td>0.910</td>\n",
              "      <td>1</td>\n",
              "      <td>120.000000</td>\n",
              "      <td>0</td>\n",
              "    </tr>\n",
              "    <tr>\n",
              "      <th>3</th>\n",
              "      <td>70.0</td>\n",
              "      <td>1.0</td>\n",
              "      <td>1</td>\n",
              "      <td>0</td>\n",
              "      <td>0</td>\n",
              "      <td>0</td>\n",
              "      <td>0</td>\n",
              "      <td>0</td>\n",
              "      <td>0</td>\n",
              "      <td>0</td>\n",
              "      <td>...</td>\n",
              "      <td>0.16</td>\n",
              "      <td>1</td>\n",
              "      <td>1.9000</td>\n",
              "      <td>1</td>\n",
              "      <td>175.0</td>\n",
              "      <td>0</td>\n",
              "      <td>0.995</td>\n",
              "      <td>0</td>\n",
              "      <td>110.469649</td>\n",
              "      <td>0</td>\n",
              "    </tr>\n",
              "    <tr>\n",
              "      <th>4</th>\n",
              "      <td>70.0</td>\n",
              "      <td>1.0</td>\n",
              "      <td>0</td>\n",
              "      <td>0</td>\n",
              "      <td>0</td>\n",
              "      <td>0</td>\n",
              "      <td>0</td>\n",
              "      <td>0</td>\n",
              "      <td>0</td>\n",
              "      <td>0</td>\n",
              "      <td>...</td>\n",
              "      <td>0.72</td>\n",
              "      <td>1</td>\n",
              "      <td>1.2000</td>\n",
              "      <td>1</td>\n",
              "      <td>61.0</td>\n",
              "      <td>1</td>\n",
              "      <td>0.870</td>\n",
              "      <td>1</td>\n",
              "      <td>70.000000</td>\n",
              "      <td>0</td>\n",
              "    </tr>\n",
              "  </tbody>\n",
              "</table>\n",
              "<p>5 rows × 27 columns</p>\n",
              "</div>"
            ],
            "text/plain": [
              "    age  sex  on thyroxine  query on thyroxine  on antithyroid medication  \\\n",
              "0  41.0  1.0             0                   0                          0   \n",
              "1  23.0  1.0             0                   0                          0   \n",
              "2  46.0  0.0             0                   0                          0   \n",
              "3  70.0  1.0             1                   0                          0   \n",
              "4  70.0  1.0             0                   0                          0   \n",
              "\n",
              "   sick  pregnant  thyroid surgery  I131 treatment  query hypothyroid  ...  \\\n",
              "0     0         0                0               0                  0  ...   \n",
              "1     0         0                0               0                  0  ...   \n",
              "2     0         0                0               0                  0  ...   \n",
              "3     0         0                0               0                  0  ...   \n",
              "4     0         0                0               0                  0  ...   \n",
              "\n",
              "    TSH  T3 measured      T3  TT4 measured    TT4  T4U measured    T4U  \\\n",
              "0  1.30            1  2.5000             1  125.0             1  1.140   \n",
              "1  4.10            1  2.0000             1  102.0             0  0.995   \n",
              "2  0.98            0  2.0135             1  109.0             1  0.910   \n",
              "3  0.16            1  1.9000             1  175.0             0  0.995   \n",
              "4  0.72            1  1.2000             1   61.0             1  0.870   \n",
              "\n",
              "   FTI measured         FTI  TBG measured  \n",
              "0             1  109.000000             0  \n",
              "1             0  110.469649             0  \n",
              "2             1  120.000000             0  \n",
              "3             0  110.469649             0  \n",
              "4             1   70.000000             0  \n",
              "\n",
              "[5 rows x 27 columns]"
            ]
          },
          "execution_count": 48,
          "metadata": {},
          "output_type": "execute_result"
        }
      ],
      "source": [
        "x.head()"
      ]
    },
    {
      "cell_type": "code",
      "execution_count": 49,
      "metadata": {
        "colab": {
          "base_uri": "https://localhost:8080/"
        },
        "id": "jvzuU1WZmrF6",
        "outputId": "2989f7b6-7c98-48d6-9878-fea60b39283b"
      },
      "outputs": [
        {
          "data": {
            "text/plain": [
              "0    0\n",
              "1    0\n",
              "2    0\n",
              "3    0\n",
              "4    0\n",
              "Name: binaryClass, dtype: int64"
            ]
          },
          "execution_count": 49,
          "metadata": {},
          "output_type": "execute_result"
        }
      ],
      "source": [
        "y.head()"
      ]
    },
    {
      "cell_type": "code",
      "execution_count": 50,
      "metadata": {
        "id": "dGKtBMCrm2LQ"
      },
      "outputs": [],
      "source": [
        "\n",
        "x_train, x_test, y_train, y_test = train_test_split(x, y, test_size=0.2, random_state=42)"
      ]
    },
    {
      "cell_type": "code",
      "execution_count": 51,
      "metadata": {
        "colab": {
          "base_uri": "https://localhost:8080/"
        },
        "id": "POq0lzi7m5vo",
        "outputId": "2d0e4bb0-a096-49fc-c224-3109828f4001"
      },
      "outputs": [
        {
          "name": "stdout",
          "output_type": "stream",
          "text": [
            "(3772, 27) (3017, 27) (755, 27)\n"
          ]
        }
      ],
      "source": [
        "print(x.shape, x_train.shape, x_test.shape)"
      ]
    },
    {
      "cell_type": "markdown",
      "metadata": {
        "id": "PNQlIXEgL1BA"
      },
      "source": [
        "## **Feature Selection- Dropping constant features**\n"
      ]
    },
    {
      "cell_type": "code",
      "execution_count": 52,
      "metadata": {
        "id": "vjV-NASt48Jz"
      },
      "outputs": [],
      "source": [
        "x_train = x_train.drop(['FTI', 'FTI measured', 'T4U measured', 'TT4 measured','query on thyroxine','on antithyroid medication','sick', 'pregnant','thyroid surgery','I131 treatment', 'query hypothyroid', 'query hyperthyroid', 'lithium', 'goitre', 'tumor', 'hypopituitary','psych' , 'TSH measured', 'T4U', 'TBG measured'],axis=1)\n",
        "x_test = x_test.drop(['FTI', 'FTI measured', 'T4U measured', 'TT4 measured','query on thyroxine','on antithyroid medication','sick', 'pregnant','thyroid surgery','I131 treatment', 'query hypothyroid', 'query hyperthyroid', 'lithium', 'goitre', 'tumor', 'hypopituitary','psych' , 'TSH measured', 'T4U', 'TBG measured'],axis=1)"
      ]
    },
    {
      "cell_type": "code",
      "execution_count": 53,
      "metadata": {
        "colab": {
          "base_uri": "https://localhost:8080/"
        },
        "id": "kIHHwcLK2LOs",
        "outputId": "f281d5ad-6f84-4916-b408-2b45e1476eb0"
      },
      "outputs": [
        {
          "data": {
            "text/plain": [
              "Index(['age', 'sex', 'on thyroxine', 'TSH', 'T3 measured', 'T3', 'TT4'], dtype='object')"
            ]
          },
          "execution_count": 53,
          "metadata": {},
          "output_type": "execute_result"
        }
      ],
      "source": [
        "x_train.columns"
      ]
    },
    {
      "cell_type": "markdown",
      "metadata": {
        "id": "N3obCAYFNWMy"
      },
      "source": [
        "## **Model Training**"
      ]
    },
    {
      "cell_type": "code",
      "execution_count": 54,
      "metadata": {
        "id": "1wIYRE_KE01y"
      },
      "outputs": [],
      "source": [
        "model = LogisticRegression()"
      ]
    },
    {
      "cell_type": "code",
      "execution_count": 55,
      "metadata": {
        "colab": {
          "base_uri": "https://localhost:8080/",
          "height": 214
        },
        "id": "gpWW486rcXMW",
        "outputId": "393c98a2-c5bc-4a79-b20e-b7fbfeea546a"
      },
      "outputs": [
        {
          "name": "stderr",
          "output_type": "stream",
          "text": [
            "c:\\Users\\kanna\\AppData\\Local\\Programs\\Python\\Python39\\demo_module\\lib\\site-packages\\sklearn\\linear_model\\_logistic.py:814: ConvergenceWarning: lbfgs failed to converge (status=1):\n",
            "STOP: TOTAL NO. of ITERATIONS REACHED LIMIT.\n",
            "\n",
            "Increase the number of iterations (max_iter) or scale the data as shown in:\n",
            "    https://scikit-learn.org/stable/modules/preprocessing.html\n",
            "Please also refer to the documentation for alternative solver options:\n",
            "    https://scikit-learn.org/stable/modules/linear_model.html#logistic-regression\n",
            "  n_iter_i = _check_optimize_result(\n"
          ]
        },
        {
          "data": {
            "text/plain": [
              "LogisticRegression()"
            ]
          },
          "execution_count": 55,
          "metadata": {},
          "output_type": "execute_result"
        }
      ],
      "source": [
        "model.fit(x_train, y_train)"
      ]
    },
    {
      "cell_type": "code",
      "execution_count": 56,
      "metadata": {
        "id": "SyvInp_9cYV8"
      },
      "outputs": [],
      "source": [
        "# accuracy on training data\n",
        "x_train_prediction = model.predict(x_train)\n",
        "training_data_accuracy = accuracy_score(x_train_prediction, y_train)"
      ]
    },
    {
      "cell_type": "code",
      "execution_count": 57,
      "metadata": {
        "colab": {
          "base_uri": "https://localhost:8080/"
        },
        "id": "MH8LTzyJdgzZ",
        "outputId": "8c9cd067-9fc0-47c8-b0d3-e239557367b7"
      },
      "outputs": [
        {
          "name": "stdout",
          "output_type": "stream",
          "text": [
            "Accuracy on Training data :  0.956247928405701\n"
          ]
        }
      ],
      "source": [
        "print('Accuracy on Training data : ', training_data_accuracy)"
      ]
    },
    {
      "cell_type": "code",
      "execution_count": 58,
      "metadata": {
        "id": "acAALDTQcYY7"
      },
      "outputs": [],
      "source": [
        "# accuracy on test data\n",
        "x_test_prediction = model.predict(x_test)\n",
        "test_data_accuracy = accuracy_score(x_test_prediction, y_test)"
      ]
    },
    {
      "cell_type": "code",
      "execution_count": 59,
      "metadata": {
        "colab": {
          "base_uri": "https://localhost:8080/"
        },
        "id": "b91Y38UncYfo",
        "outputId": "81c8581e-901f-43b9-b687-6fa25c95b1e9"
      },
      "outputs": [
        {
          "name": "stdout",
          "output_type": "stream",
          "text": [
            "Accuracy on Test data :  0.9562913907284768\n"
          ]
        }
      ],
      "source": [
        "print('Accuracy on Test data : ', test_data_accuracy)"
      ]
    },
    {
      "cell_type": "code",
      "execution_count": 61,
      "metadata": {
        "colab": {
          "base_uri": "https://localhost:8080/"
        },
        "id": "pPA0amqGcYir",
        "outputId": "9f323c2e-c270-474c-cae7-12ff8f70c3fa"
      },
      "outputs": [
        {
          "name": "stdout",
          "output_type": "stream",
          "text": [
            "[1]\n",
            "The Person has HyperThyroid Disease\n"
          ]
        },
        {
          "name": "stderr",
          "output_type": "stream",
          "text": [
            "c:\\Users\\kanna\\AppData\\Local\\Programs\\Python\\Python39\\demo_module\\lib\\site-packages\\sklearn\\base.py:450: UserWarning: X does not have valid feature names, but LogisticRegression was fitted with feature names\n",
            "  warnings.warn(\n"
          ]
        }
      ],
      "source": [
        "input_data = (44,0,0,45,1,1.4,39)\n",
        "\n",
        "# change the input data to a numpy array\n",
        "input_data_as_numpy_array= np.asarray(input_data)\n",
        "\n",
        "# reshape the numpy array as we are predicting for only on instance\n",
        "input_data_reshaped = input_data_as_numpy_array.reshape(1,-1)\n",
        "\n",
        "prediction = model.predict(input_data_reshaped)\n",
        "print(prediction)\n",
        "\n",
        "if (prediction[0]== 0):\n",
        "  print('The Person does not have a HyperThyroid Disease')\n",
        "else:\n",
        "  print('The Person has HyperThyroid Disease')"
      ]
    },
    {
      "cell_type": "markdown",
      "metadata": {
        "id": "XipiqUW0UMAy"
      },
      "source": [
        "## **Saving the trained model**\n",
        "\n",
        "\n",
        "\n"
      ]
    },
    {
      "cell_type": "code",
      "execution_count": 62,
      "metadata": {
        "id": "qVyjC2ybULCd"
      },
      "outputs": [],
      "source": [
        "import pickle"
      ]
    },
    {
      "cell_type": "code",
      "execution_count": 63,
      "metadata": {
        "id": "LqbOr1b3ULNF"
      },
      "outputs": [],
      "source": [
        "filename = 'Thyroid_model.sav'\n",
        "pickle.dump(model, open(filename, 'wb'))"
      ]
    },
    {
      "cell_type": "code",
      "execution_count": 64,
      "metadata": {
        "id": "aAxzE1AkULUl"
      },
      "outputs": [],
      "source": [
        "# loading the saved model\n",
        "loaded_model = pickle.load(open('Thyroid_model.sav', 'rb'))"
      ]
    },
    {
      "cell_type": "code",
      "execution_count": 65,
      "metadata": {
        "colab": {
          "base_uri": "https://localhost:8080/"
        },
        "id": "KBKfvaRWUfuS",
        "outputId": "960aea33-3674-4c0a-bcc7-a526db9161bb"
      },
      "outputs": [
        {
          "name": "stdout",
          "output_type": "stream",
          "text": [
            "age\n",
            "sex\n",
            "on thyroxine\n",
            "TSH\n",
            "T3 measured\n",
            "T3\n",
            "TT4\n"
          ]
        }
      ],
      "source": [
        "for column in x_train.columns:\n",
        "  print(column)"
      ]
    },
    {
      "cell_type": "code",
      "execution_count": 66,
      "metadata": {
        "colab": {
          "base_uri": "https://localhost:8080/"
        },
        "id": "V6N-IJJ1U5-6",
        "outputId": "183ae11a-b67a-4044-9615-f1c47a081eb4"
      },
      "outputs": [
        {
          "name": "stdout",
          "output_type": "stream",
          "text": [
            "<class 'pandas.core.frame.DataFrame'>\n",
            "Index: 3017 entries, 2661 to 3174\n",
            "Data columns (total 7 columns):\n",
            " #   Column        Non-Null Count  Dtype  \n",
            "---  ------        --------------  -----  \n",
            " 0   age           3017 non-null   float64\n",
            " 1   sex           3017 non-null   float64\n",
            " 2   on thyroxine  3017 non-null   int64  \n",
            " 3   TSH           3017 non-null   float64\n",
            " 4   T3 measured   3017 non-null   int64  \n",
            " 5   T3            3017 non-null   float64\n",
            " 6   TT4           3017 non-null   float64\n",
            "dtypes: float64(5), int64(2)\n",
            "memory usage: 188.6 KB\n"
          ]
        }
      ],
      "source": [
        "x_train.info()"
      ]
    },
    {
      "cell_type": "code",
      "execution_count": null,
      "metadata": {
        "id": "GKiKvSUIBeUO"
      },
      "outputs": [],
      "source": []
    }
  ],
  "metadata": {
    "colab": {
      "authorship_tag": "ABX9TyMFj+U6iqISOL4EmpeClB9c",
      "include_colab_link": true,
      "provenance": []
    },
    "kernelspec": {
      "display_name": "Python 3",
      "name": "python3"
    },
    "language_info": {
      "codemirror_mode": {
        "name": "ipython",
        "version": 3
      },
      "file_extension": ".py",
      "mimetype": "text/x-python",
      "name": "python",
      "nbconvert_exporter": "python",
      "pygments_lexer": "ipython3",
      "version": "3.9.6"
    }
  },
  "nbformat": 4,
  "nbformat_minor": 0
}
